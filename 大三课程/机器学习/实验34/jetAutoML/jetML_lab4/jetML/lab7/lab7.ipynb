{
 "cells": [
  {
   "cell_type": "code",
   "metadata": {
    "ExecuteTime": {
     "end_time": "2024-11-04T06:35:07.626026Z",
     "start_time": "2024-11-04T06:35:02.693630Z"
    }
   },
   "source": [
    "from __future__ import unicode_literals, print_function, division\n",
    "from io import open\n",
    "# from numpy.lib.stride_tricks import broadcast_to\n",
    "import unicodedata\n",
    "import string\n",
    "import re\n",
    "import random\n",
    "\n",
    "import torch\n",
    "import torch.nn as nn\n",
    "from torch import optim\n",
    "import torch.nn.functional as F\n",
    "\n",
    "import numpy as np\n",
    "import jupyter\n",
    "import matplotlib\n",
    "import matplotlib.pyplot as plt\n",
    "import nltk\n",
    "from nltk.translate.bleu_score import sentence_bleu\n",
    "device = torch.device(\"cuda\" if torch.cuda.is_available() else \"cpu\")\n",
    "device"
   ],
   "outputs": [
    {
     "data": {
      "text/plain": [
       "device(type='cuda')"
      ]
     },
     "execution_count": 1,
     "metadata": {},
     "output_type": "execute_result"
    }
   ],
   "execution_count": 1
  },
  {
   "cell_type": "code",
   "metadata": {
    "ExecuteTime": {
     "end_time": "2024-11-04T06:35:07.642026Z",
     "start_time": "2024-11-04T06:35:07.633031Z"
    }
   },
   "source": [
    "SOS_token = 0\n",
    "EOS_token = 1\n",
    "\n",
    "\n",
    "class Lang:\n",
    "    def __init__(self, name):\n",
    "        self.name = name\n",
    "        self.word2index = {}\n",
    "        self.word2count = {}\n",
    "        self.index2word = {0: \"SOS\", 1: \"EOS\"}\n",
    "        self.n_words = 2  # Count SOS and EOS\n",
    "\n",
    "    def addSentence(self, sentence):\n",
    "        for word in sentence.split(' '):\n",
    "            self.addWord(word)\n",
    "\n",
    "    def addWord(self, word):\n",
    "        if word not in self.word2index:\n",
    "            self.word2index[word] = self.n_words\n",
    "            self.word2count[word] = 1\n",
    "            self.index2word[self.n_words] = word\n",
    "            self.n_words += 1\n",
    "        else:\n",
    "            self.word2count[word] += 1"
   ],
   "outputs": [],
   "execution_count": 2
  },
  {
   "cell_type": "code",
   "metadata": {
    "ExecuteTime": {
     "end_time": "2024-11-04T06:35:08.124834Z",
     "start_time": "2024-11-04T06:35:08.109209Z"
    }
   },
   "source": [
    "def unicodeToAscii(s):\n",
    "    return ''.join(\n",
    "    c for c in unicodedata.normalize('NFD', s)\n",
    "    if unicodedata.category(c) != 'Mn'\n",
    "    )\n",
    "\n",
    "\n",
    "# 其中normalizeString函数中的正则表达式需对应更改，否则会将中文单词替换成空格\n",
    "def normalizeString(s):\n",
    "    #变成小写，去掉前后空格\n",
    "    s = s.lower().strip()\n",
    "    if ' ' not in s:\n",
    "        s = list(s)\n",
    "        s = ' '.join(s)\n",
    "    s = unicodeToAscii(s)  #将unicode变成ascii\n",
    "    s = re.sub(r\"([.。!！?？])\", \"\", s)\n",
    "    return s\n"
   ],
   "outputs": [],
   "execution_count": 3
  },
  {
   "cell_type": "code",
   "metadata": {
    "ExecuteTime": {
     "end_time": "2024-11-04T06:35:08.156084Z",
     "start_time": "2024-11-04T06:35:08.140458Z"
    }
   },
   "source": [
    "def readLangs(lang1, lang2, reverse=False):\n",
    "    print(\"Reading lines...\")\n",
    "\n",
    "    # Read the file and split into lines\n",
    "    file_path = \"./data/eng-cmn.txt\"\n",
    "    with open(file_path, encoding='utf-8') as file:\n",
    "        lines = file.readlines()\n",
    "    \n",
    "\n",
    "    # Split every line into pairs and normalize\n",
    "    pairs = [[normalizeString(s) for s in l.split('\\t')[:2]] for l in lines]\n",
    "\n",
    "\n",
    "    # Reverse pairs, make Lang instances\n",
    "    if reverse:\n",
    "        pairs = [list(reversed(p)) for p in pairs]\n",
    "        input_lang = Lang(lang2)\n",
    "        output_lang = Lang(lang1)\n",
    "    else:\n",
    "        input_lang = Lang(lang1)\n",
    "        output_lang = Lang(lang2)\n",
    "\n",
    "    return input_lang, output_lang, pairs"
   ],
   "outputs": [],
   "execution_count": 4
  },
  {
   "cell_type": "code",
   "metadata": {
    "ExecuteTime": {
     "end_time": "2024-11-04T06:35:08.187806Z",
     "start_time": "2024-11-04T06:35:08.172287Z"
    }
   },
   "source": [
    "MAX_LENGTH = 10\n",
    "\n",
    "eng_prefixes = (\n",
    "    \"i am \", \"i m \",\n",
    "    \"he is\", \"he s \",\n",
    "    \"she is\", \"she s \",\n",
    "    \"you are\", \"you re \",\n",
    "    \"we are\", \"we re \",\n",
    "    \"they are\", \"they re \"\n",
    ")\n",
    "\n",
    "\n",
    "def filterPair(p):\n",
    "    return len(p[0].split(' ')) < MAX_LENGTH and \\\n",
    "        len(p[1].split(' ')) < MAX_LENGTH and \\\n",
    "        p[1].startswith(eng_prefixes)\n",
    "\n",
    "\n",
    "def filterPairs(pairs):\n",
    "    return [pair for pair in pairs if filterPair(pair)]"
   ],
   "outputs": [],
   "execution_count": 5
  },
  {
   "cell_type": "code",
   "metadata": {
    "ExecuteTime": {
     "end_time": "2024-11-04T06:35:08.219066Z",
     "start_time": "2024-11-04T06:35:08.203439Z"
    }
   },
   "source": [
    "def prepareData(lang1, lang2, reverse=False):\n",
    "    input_lang, output_lang, pairs = readLangs(lang1, lang2, reverse)\n",
    "    print(\"Read %s sentence pairs\" % len(pairs))\n",
    "    pairs = filterPairs(pairs)\n",
    "    print(\"Trimmed to %s sentence pairs\" % len(pairs))\n",
    "    print(\"Counting words...\")\n",
    "    for pair in pairs:\n",
    "        input_lang.addSentence(pair[0])\n",
    "        output_lang.addSentence(pair[1])\n",
    "    print(\"Counted words:\")\n",
    "    print(input_lang.name, input_lang.n_words)\n",
    "    print(output_lang.name, output_lang.n_words)\n",
    "    return input_lang, output_lang, pairs\n",
    "\n"
   ],
   "outputs": [],
   "execution_count": 6
  },
  {
   "cell_type": "code",
   "metadata": {
    "ExecuteTime": {
     "end_time": "2024-11-04T06:35:08.664358Z",
     "start_time": "2024-11-04T06:35:08.234690Z"
    }
   },
   "source": [
    "input_lang, output_lang, pairs = prepareData('eng', 'cmn', True)\n",
    "print(random.choice(pairs))\n"
   ],
   "outputs": [
    {
     "name": "stdout",
     "output_type": "stream",
     "text": [
      "Reading lines...\n",
      "Read 24026 sentence pairs\n",
      "Trimmed to 459 sentence pairs\n",
      "Counting words...\n",
      "Counted words:\n",
      "cmn 684\n",
      "eng 560\n",
      "['他 们 不 怕 死 ', \"they aren't afraid of death\"]\n"
     ]
    }
   ],
   "execution_count": 7
  },
  {
   "cell_type": "code",
   "metadata": {
    "ExecuteTime": {
     "end_time": "2024-11-04T06:35:08.696897Z",
     "start_time": "2024-11-04T06:35:08.681177Z"
    }
   },
   "source": [
    "'''file_path = \"./data/eng-cmn.txt\"\n",
    "with open(file_path, encoding='utf-8') as file:\n",
    "    lines = file.readlines()\n",
    "pairs = [[normalizeString(l).split('\\t')[:2]] for l in lines]\n",
    "cn = []\n",
    "eng = []\n",
    "for p in pairs:\n",
    "    p=np.array(p)\n",
    "    eng.append([p[0,0]])\n",
    "    cn.append([p[0,1]])'''"
   ],
   "outputs": [
    {
     "data": {
      "text/plain": [
       "'file_path = \"./data/eng-cmn.txt\"\\nwith open(file_path, encoding=\\'utf-8\\') as file:\\n    lines = file.readlines()\\npairs = [[normalizeString(l).split(\\'\\t\\')[:2]] for l in lines]\\ncn = []\\neng = []\\nfor p in pairs:\\n    p=np.array(p)\\n    eng.append([p[0,0]])\\n    cn.append([p[0,1]])'"
      ]
     },
     "execution_count": 8,
     "metadata": {},
     "output_type": "execute_result"
    }
   ],
   "execution_count": 8
  },
  {
   "cell_type": "markdown",
   "metadata": {},
   "source": [
    "# The Encoder"
   ]
  },
  {
   "cell_type": "code",
   "metadata": {
    "ExecuteTime": {
     "end_time": "2024-11-04T06:35:08.728543Z",
     "start_time": "2024-11-04T06:35:08.712910Z"
    }
   },
   "source": [
    "class EncoderRNN(nn.Module):\n",
    "    def __init__(self, input_size, hidden_size):\n",
    "        super(EncoderRNN, self).__init__()\n",
    "        self.hidden_size = hidden_size\n",
    "\n",
    "        self.embedding = nn.Embedding(input_size, hidden_size)\n",
    "        self.gru = nn.GRU(hidden_size, hidden_size)\n",
    "\n",
    "    def forward(self, input, hidden):\n",
    "        embedded = self.embedding(input).view(1, 1, -1)\n",
    "        output = embedded\n",
    "        output, hidden = self.gru(output, hidden)\n",
    "        return output, hidden\n",
    "\n",
    "    def initHidden(self):\n",
    "        return torch.zeros(1, 1, self.hidden_size, device=device)"
   ],
   "outputs": [],
   "execution_count": 9
  },
  {
   "cell_type": "markdown",
   "metadata": {},
   "source": [
    "# Attention Decoder"
   ]
  },
  {
   "cell_type": "code",
   "metadata": {
    "ExecuteTime": {
     "end_time": "2024-11-04T06:35:08.775419Z",
     "start_time": "2024-11-04T06:35:08.759792Z"
    }
   },
   "source": [
    "class AttnDecoderRNN(nn.Module):\n",
    "    def __init__(self, hidden_size, output_size, dropout_p=0.1, max_length=MAX_LENGTH):\n",
    "        super(AttnDecoderRNN, self).__init__()\n",
    "        self.hidden_size = hidden_size\n",
    "        self.output_size = output_size\n",
    "        self.dropout_p = dropout_p\n",
    "        self.max_length = max_length\n",
    "\n",
    "        self.embedding = nn.Embedding(self.output_size, self.hidden_size)\n",
    "        self.attn = nn.Linear(self.hidden_size * 2, self.max_length)\n",
    "        self.attn_combine = nn.Linear(self.hidden_size * 2, self.hidden_size)\n",
    "        self.dropout = nn.Dropout(self.dropout_p)\n",
    "        self.gru = nn.GRU(self.hidden_size, self.hidden_size)\n",
    "        self.out = nn.Linear(self.hidden_size, self.output_size)\n",
    "\n",
    "    def forward(self, input, hidden, encoder_outputs):\n",
    "        embedded = self.embedding(input).view(1, 1, -1)\n",
    "        embedded = self.dropout(embedded)\n",
    "\n",
    "        attn_weights = F.softmax(\n",
    "            self.attn(torch.cat((embedded[0], hidden[0]), 1)), dim=1)\n",
    "        attn_applied = torch.bmm(attn_weights.unsqueeze(0),\n",
    "                                 encoder_outputs.unsqueeze(0))\n",
    "\n",
    "        output = torch.cat((embedded[0], attn_applied[0]), 1)\n",
    "        output = self.attn_combine(output).unsqueeze(0)\n",
    "\n",
    "        output = F.relu(output)\n",
    "        output, hidden = self.gru(output, hidden)\n",
    "\n",
    "        output = F.log_softmax(self.out(output[0]), dim=1)\n",
    "        return output, hidden, attn_weights\n",
    "\n",
    "    def initHidden(self):\n",
    "        return torch.zeros(1, 1, self.hidden_size, device=device)"
   ],
   "outputs": [],
   "execution_count": 10
  },
  {
   "cell_type": "markdown",
   "metadata": {},
   "source": [
    "# Preparing Training Data"
   ]
  },
  {
   "cell_type": "code",
   "metadata": {
    "ExecuteTime": {
     "end_time": "2024-11-04T06:35:08.796620Z",
     "start_time": "2024-11-04T06:35:08.780963Z"
    }
   },
   "source": [
    "def indexesFromSentence(lang, sentence):\n",
    "    return [lang.word2index[word] for word in sentence.split(' ')]\n",
    "\n",
    "\n",
    "def tensorFromSentence(lang, sentence):\n",
    "    indexes = indexesFromSentence(lang, sentence)\n",
    "    indexes.append(EOS_token)\n",
    "    return torch.tensor(indexes, dtype=torch.long, device=device).view(-1, 1)\n",
    "\n",
    "\n",
    "def tensorsFromPair(pair):\n",
    "    input_tensor = tensorFromSentence(input_lang, pair[0])\n",
    "    target_tensor = tensorFromSentence(output_lang, pair[1])\n",
    "    return (input_tensor, target_tensor)"
   ],
   "outputs": [],
   "execution_count": 11
  },
  {
   "cell_type": "markdown",
   "metadata": {},
   "source": [
    "# Training the model"
   ]
  },
  {
   "cell_type": "code",
   "metadata": {
    "ExecuteTime": {
     "end_time": "2024-11-04T06:35:08.827871Z",
     "start_time": "2024-11-04T06:35:08.812244Z"
    }
   },
   "source": [
    "teacher_forcing_ratio = 0.5\n",
    "\n",
    "\n",
    "def train(input_tensor, target_tensor, encoder, decoder, encoder_optimizer, decoder_optimizer, criterion, max_length=MAX_LENGTH):\n",
    "    encoder_hidden = encoder.initHidden()\n",
    "\n",
    "    encoder_optimizer.zero_grad()\n",
    "    decoder_optimizer.zero_grad()\n",
    "\n",
    "    input_length = input_tensor.size(0)\n",
    "    target_length = target_tensor.size(0)\n",
    "\n",
    "    encoder_outputs = torch.zeros(max_length, encoder.hidden_size, device=device)\n",
    "\n",
    "    loss = 0\n",
    "\n",
    "    for ei in range(input_length):\n",
    "        encoder_output, encoder_hidden = encoder(\n",
    "            input_tensor[ei], encoder_hidden)\n",
    "        encoder_outputs[ei] = encoder_output[0, 0]\n",
    "\n",
    "    decoder_input = torch.tensor([[SOS_token]], device=device)\n",
    "\n",
    "    decoder_hidden = encoder_hidden\n",
    "\n",
    "    use_teacher_forcing = True if random.random() < teacher_forcing_ratio else False\n",
    "\n",
    "    if use_teacher_forcing:\n",
    "        # Teacher forcing: Feed the target as the next input\n",
    "        for di in range(target_length):\n",
    "            decoder_output, decoder_hidden, decoder_attention = decoder(\n",
    "                decoder_input, decoder_hidden, encoder_outputs)\n",
    "            loss += criterion(decoder_output, target_tensor[di])\n",
    "            decoder_input = target_tensor[di]  # Teacher forcing\n",
    "\n",
    "    else:\n",
    "        # Without teacher forcing: use its own predictions as the next input\n",
    "        for di in range(target_length):\n",
    "            decoder_output, decoder_hidden, decoder_attention = decoder(\n",
    "                decoder_input, decoder_hidden, encoder_outputs)\n",
    "            topv, topi = decoder_output.topk(1)\n",
    "            decoder_input = topi.squeeze().detach()  # detach from history as input\n",
    "\n",
    "            loss += criterion(decoder_output, target_tensor[di])\n",
    "            if decoder_input.item() == EOS_token:\n",
    "                break\n",
    "\n",
    "    loss.backward()\n",
    "\n",
    "    encoder_optimizer.step()\n",
    "    decoder_optimizer.step()\n",
    "\n",
    "    return loss.item() / target_length"
   ],
   "outputs": [],
   "execution_count": 12
  },
  {
   "cell_type": "code",
   "metadata": {
    "ExecuteTime": {
     "end_time": "2024-11-04T06:35:08.859121Z",
     "start_time": "2024-11-04T06:35:08.843494Z"
    }
   },
   "source": [
    "#This is a helper function to print time elapsed and estimated time remaining given the current time and progress %.\n",
    "\n",
    "import time\n",
    "import math\n",
    "\n",
    "\n",
    "def asMinutes(s):\n",
    "    m = math.floor(s / 60)\n",
    "    s -= m * 60\n",
    "    return '%dm %ds' % (m, s)\n",
    "\n",
    "\n",
    "def timeSince(since, percent):\n",
    "    now = time.time()\n",
    "    s = now - since\n",
    "    es = s / (percent)\n",
    "    rs = es - s\n",
    "    return '%s (- %s)' % (asMinutes(s), asMinutes(rs))"
   ],
   "outputs": [],
   "execution_count": 13
  },
  {
   "metadata": {
    "ExecuteTime": {
     "end_time": "2024-11-04T06:35:26.397552Z",
     "start_time": "2024-11-04T06:35:08.874745Z"
    }
   },
   "cell_type": "code",
   "source": [
    "# jetML平台配置\n",
    "\n",
    "from pzmllog import NewLogger\n",
    "\n",
    "learning_rate = 0.01\n",
    "epoch = 1\n",
    "batch_size = 1\n",
    "\n",
    "\n",
    "log = NewLogger(\n",
    "    config={\n",
    "  \n",
    "        #实验描述和说明信息\n",
    "        \"description\":\"lab4train\",\n",
    "        #自定义实验名称\n",
    "        \"experiment_name\":\"lab4\",\n",
    "        'port': \"5560\",\n",
    "        'access_token':\"oe9f7l5ax53saarwz0ss1wss\",\n",
    "        'project':\"1698\",\n",
    "        'repository_id':\"a68dac18203a47ed9f35512f4cee5bad\"\n",
    "    },\n",
    "    #超参数集\n",
    "    info = {\n",
    "        \"learning_rate\": learning_rate,\n",
    "        \"epoch\": epoch,\n",
    "        \"batch_size\": batch_size\n",
    "    }\n",
    ")"
   ],
   "outputs": [],
   "execution_count": 14
  },
  {
   "cell_type": "code",
   "metadata": {
    "ExecuteTime": {
     "end_time": "2024-11-04T06:35:26.428792Z",
     "start_time": "2024-11-04T06:35:26.413178Z"
    }
   },
   "source": [
    "def trainIters(encoder, decoder, n_iters, print_every=1000, plot_every=100, learning_rate=0.01):\n",
    "    start = time.time()\n",
    "    plot_losses = []\n",
    "    print_loss_total = 0  # Reset every print_every\n",
    "    plot_loss_total = 0  # Reset every plot_every\n",
    "\n",
    "    encoder_optimizer = optim.SGD(encoder.parameters(), lr=learning_rate)\n",
    "    decoder_optimizer = optim.SGD(decoder.parameters(), lr=learning_rate)\n",
    "    training_pairs = [tensorsFromPair(random.choice(pairs))\n",
    "                      for i in range(n_iters)]\n",
    "    \n",
    "    criterion = nn.NLLLoss()\n",
    "\n",
    "    for iter in range(1, n_iters + 1):\n",
    "        training_pair = training_pairs[iter - 1]\n",
    "        input_tensor = training_pair[0]\n",
    "        target_tensor = training_pair[1]\n",
    "\n",
    "        loss = train(input_tensor, target_tensor, encoder,\n",
    "                     decoder, encoder_optimizer, decoder_optimizer, criterion)\n",
    "        print_loss_total += loss\n",
    "        plot_loss_total += loss\n",
    "        \n",
    "        # log.Log({\"epoch\":epoch,\"loss\":loss,\"accuracy\":accuracy})\n",
    "        log.Log({\"epoch\":epoch,\"loss\":loss})\n",
    "\n",
    "        if iter % print_every == 0:\n",
    "            print_loss_avg = print_loss_total / print_every\n",
    "            print_loss_total = 0\n",
    "            print('%s (%d %d%%) %.4f' % (timeSince(start, iter / n_iters),\n",
    "                                         iter, iter / n_iters * 100, print_loss_avg))\n",
    "\n",
    "        if iter % plot_every == 0:\n",
    "            plot_loss_avg = plot_loss_total / plot_every\n",
    "            plot_losses.append(plot_loss_avg)\n",
    "            plot_loss_total = 0\n",
    "\n",
    "    showPlot(plot_losses)\n"
   ],
   "outputs": [],
   "execution_count": 15
  },
  {
   "cell_type": "markdown",
   "metadata": {},
   "source": [
    "# Plotting results"
   ]
  },
  {
   "cell_type": "code",
   "metadata": {
    "ExecuteTime": {
     "end_time": "2024-11-04T06:35:26.463983Z",
     "start_time": "2024-11-04T06:35:26.444415Z"
    }
   },
   "source": [
    "import matplotlib.pyplot as plt\n",
    "import matplotlib.ticker as ticker\n",
    "import numpy as np\n",
    "\n",
    "\n",
    "def showPlot(points):\n",
    "    plt.figure()\n",
    "    fig, ax = plt.subplots()\n",
    "    # this locator puts ticks at regular intervals\n",
    "    loc = ticker.MultipleLocator(base=0.2)\n",
    "    ax.yaxis.set_major_locator(loc)\n",
    "    plt.plot(points)\n",
    "    plt.show()"
   ],
   "outputs": [],
   "execution_count": 16
  },
  {
   "cell_type": "markdown",
   "metadata": {
    "ExecuteTime": {
     "end_time": "2020-11-10T01:58:52.080280Z",
     "start_time": "2020-11-10T01:58:52.072221Z"
    }
   },
   "source": [
    "# Evaluation"
   ]
  },
  {
   "cell_type": "code",
   "metadata": {
    "ExecuteTime": {
     "end_time": "2024-11-04T06:35:26.495629Z",
     "start_time": "2024-11-04T06:35:26.479996Z"
    }
   },
   "source": [
    "def evaluate(encoder, decoder, sentence, max_length=MAX_LENGTH):\n",
    "    with torch.no_grad():\n",
    "        input_tensor = tensorFromSentence(input_lang, sentence)\n",
    "        input_length = input_tensor.size()[0]\n",
    "        encoder_hidden = encoder.initHidden()\n",
    "\n",
    "        encoder_outputs = torch.zeros(max_length, encoder.hidden_size, device=device)\n",
    "\n",
    "        for ei in range(input_length):\n",
    "            encoder_output, encoder_hidden = encoder(input_tensor[ei],\n",
    "                                                     encoder_hidden)\n",
    "            encoder_outputs[ei] += encoder_output[0, 0]\n",
    "\n",
    "        decoder_input = torch.tensor([[SOS_token]], device=device)  # SOS\n",
    "\n",
    "        decoder_hidden = encoder_hidden\n",
    "\n",
    "        decoded_words = []\n",
    "        decoder_attentions = torch.zeros(max_length, max_length)\n",
    "\n",
    "        for di in range(max_length):\n",
    "            decoder_output, decoder_hidden, decoder_attention = decoder(\n",
    "                decoder_input, decoder_hidden, encoder_outputs)\n",
    "            decoder_attentions[di] = decoder_attention.data\n",
    "            topv, topi = decoder_output.data.topk(1)\n",
    "            if topi.item() == EOS_token:\n",
    "                decoded_words.append('<EOS>')\n",
    "                break\n",
    "            else:\n",
    "                decoded_words.append(output_lang.index2word[topi.item()])\n",
    "\n",
    "            decoder_input = topi.squeeze().detach()\n",
    "\n",
    "        return decoded_words, decoder_attentions[:di + 1]"
   ],
   "outputs": [],
   "execution_count": 17
  },
  {
   "cell_type": "code",
   "metadata": {
    "ExecuteTime": {
     "end_time": "2024-11-04T06:35:26.526880Z",
     "start_time": "2024-11-04T06:35:26.511255Z"
    }
   },
   "source": [
    "def evaluateRandomly(encoder, decoder, n=100):\n",
    "    sum_scores = 0\n",
    "    for i in range(n):\n",
    "        pair = random.choice(pairs)\n",
    "        print('>', pair[0])\n",
    "        print('=', pair[1])\n",
    "        output_words, attentions = evaluate(encoder, decoder, pair[0])\n",
    "        output_sentence = ' '.join(output_words)\n",
    "        print('<', output_sentence)\n",
    "        print('')\n",
    "        w = []\n",
    "        words = pair[1].strip(' ').split(' ')\n",
    "        words.append('<EOS>')\n",
    "        w.append(words)\n",
    "        bleu_score = sentence_bleu(w, output_words)\n",
    "        sum_scores += bleu_score\n",
    "    print('The bleu_score is ', sum_scores/n)"
   ],
   "outputs": [],
   "execution_count": 18
  },
  {
   "cell_type": "markdown",
   "metadata": {},
   "source": [
    "# Training and Evaluating"
   ]
  },
  {
   "cell_type": "code",
   "metadata": {
    "ExecuteTime": {
     "end_time": "2024-11-04T07:07:53.315985Z",
     "start_time": "2024-11-04T06:35:26.542504Z"
    }
   },
   "source": [
    "hidden_size = 256\n",
    "from nltk.translate.bleu_score import sentence_bleu\n",
    "device = torch.device(\"cuda\" if torch.cuda.is_available() else \"cpu\")\n",
    "# device\n",
    "encoder1 = EncoderRNN(input_lang.n_words, hidden_size).to(device)\n",
    "attn_decoder1 = AttnDecoderRNN(hidden_size, output_lang.n_words, dropout_p=0.1).to(device)\n",
    "\n",
    "log.Run()\n",
    "# trainIters(encoder1, attn_decoder1, 75000, print_every=5000)\n",
    "# trainIters(encoder1, attn_decoder1, 1000, print_every=100, learning_rate=learning_rate)\n",
    "trainIters(encoder1, attn_decoder1, 75000, print_every=5000, learning_rate=learning_rate)\n",
    "log.End()\n",
    "\n",
    "# 结束整个过程,提交实验结果\n",
    "\n",
    "log.Submit()"
   ],
   "outputs": [
    {
     "name": "stdout",
     "output_type": "stream",
     "text": [
      "2m 19s (- 32m 26s) (5000 6%) 2.3208\n",
      "4m 28s (- 29m 6s) (10000 13%) 0.5710\n",
      "6m 37s (- 26m 31s) (15000 20%) 0.0879\n",
      "8m 47s (- 24m 9s) (20000 26%) 0.0537\n",
      "10m 56s (- 21m 52s) (25000 33%) 0.0427\n",
      "13m 5s (- 19m 38s) (30000 40%) 0.0346\n",
      "15m 15s (- 17m 26s) (35000 46%) 0.0357\n",
      "17m 25s (- 15m 14s) (40000 53%) 0.0352\n",
      "19m 32s (- 13m 1s) (45000 60%) 0.0374\n",
      "21m 38s (- 10m 49s) (50000 66%) 0.0295\n",
      "23m 43s (- 8m 37s) (55000 73%) 0.0350\n",
      "25m 49s (- 6m 27s) (60000 80%) 0.0314\n",
      "27m 54s (- 4m 17s) (65000 86%) 0.0332\n",
      "30m 8s (- 2m 9s) (70000 93%) 0.0327\n",
      "32m 24s (- 0m 0s) (75000 100%) 0.0306\n"
     ]
    },
    {
     "data": {
      "text/plain": [
       "<Figure size 640x480 with 0 Axes>"
      ]
     },
     "metadata": {},
     "output_type": "display_data"
    },
    {
     "data": {
      "text/plain": [
       "<Figure size 640x480 with 1 Axes>"
      ],
      "image/png": "[encoded data removed]"
     },
     "metadata": {},
     "output_type": "display_data"
    }
   ],
   "execution_count": 19
  },
  {
   "cell_type": "code",
   "metadata": {
    "scrolled": true,
    "ExecuteTime": {
     "end_time": "2024-11-04T07:07:54.518219Z",
     "start_time": "2024-11-04T07:07:53.352763Z"
    }
   },
   "source": [
    "encoder1 = EncoderRNN(input_lang.n_words, hidden_size).to(device)\n",
    "evaluateRandomly(encoder1, attn_decoder1)"
   ],
   "outputs": [
    {
     "name": "stdout",
     "output_type": "stream",
     "text": [
      "> 他 是 一 個 怪 人 \n",
      "= he is a screwball\n",
      "< you are not a coward <EOS>\n",
      "\n",
      "> 他 一 天 一 天 地 好 轉 \n",
      "= he is getting better day by day\n",
      "< you are not a coward <EOS>\n",
      "\n",
      "> 他 依 旧 充 满 活 力 \n",
      "= he is still very much alive\n",
      "< you are not authorized to <EOS>\n",
      "\n",
      "> 她 陶 醉 在 幸 福 裡 \n",
      "= she is drunk with happiness\n",
      "< he is poor at rugby <EOS>\n",
      "\n",
      "> 我 六 英 尺 高 \n",
      "= i am six feet tall\n",
      "< he is poor at all wrong <EOS>\n",
      "\n",
      "> 我 們 身 處 核 能 時 代 \n",
      "= we are in the era of atomic energy\n",
      "< he is poor at rugby <EOS>\n",
      "\n",
      "> 他 和 我 同 岁 \n",
      "= he is just my age\n",
      "< you are not a coward <EOS>\n",
      "\n",
      "> 他 跟 我 過 不 去 \n",
      "= he is giving me a hard time\n",
      "< you are absolutely right this subject <EOS>\n",
      "\n",
      "> 我 为 我 父 亲 而 自 豪 \n",
      "= i am proud of my father\n",
      "< he is not a dj <EOS>\n",
      "\n",
      "> 我 在 下 一 站 下 车 \n",
      "= i am getting off at the next station\n",
      "< he is poor at chemistry <EOS>\n",
      "\n",
      "> 我 將 主 修 法 文 \n",
      "= i am going to major in french\n",
      "< he is poor at her <EOS>\n",
      "\n",
      "> 他 缺 乏 常 识 \n",
      "= he is lacking in common sense\n"
     ]
    },
    {
     "name": "stderr",
     "output_type": "stream",
     "text": [
      "C:\\Users\\Lenovo\\.conda\\envs\\jetML\\lib\\site-packages\\nltk\\translate\\bleu_score.py:577: UserWarning: \n",
      "The hypothesis contains 0 counts of 2-gram overlaps.\n",
      "Therefore the BLEU score evaluates to 0, independently of\n",
      "how many N-gram overlaps of lower order it contains.\n",
      "Consider using lower n-gram order or use SmoothingFunction()\n",
      "  warnings.warn(_msg)\n",
      "C:\\Users\\Lenovo\\.conda\\envs\\jetML\\lib\\site-packages\\nltk\\translate\\bleu_score.py:577: UserWarning: \n",
      "The hypothesis contains 0 counts of 3-gram overlaps.\n",
      "Therefore the BLEU score evaluates to 0, independently of\n",
      "how many N-gram overlaps of lower order it contains.\n",
      "Consider using lower n-gram order or use SmoothingFunction()\n",
      "  warnings.warn(_msg)\n",
      "C:\\Users\\Lenovo\\.conda\\envs\\jetML\\lib\\site-packages\\nltk\\translate\\bleu_score.py:577: UserWarning: \n",
      "The hypothesis contains 0 counts of 4-gram overlaps.\n",
      "Therefore the BLEU score evaluates to 0, independently of\n",
      "how many N-gram overlaps of lower order it contains.\n",
      "Consider using lower n-gram order or use SmoothingFunction()\n",
      "  warnings.warn(_msg)\n"
     ]
    },
    {
     "name": "stdout",
     "output_type": "stream",
     "text": [
      "< you are not a coward <EOS>\n",
      "\n",
      "> 他 怕 蛇 \n",
      "= he is afraid of snakes\n",
      "< you are not authorized to <EOS>\n",
      "\n",
      "> 她 在 节 食 \n",
      "= she is dieting\n",
      "< he is poor at rugby <EOS>\n",
      "\n",
      "> 他 们 是 我 的 兄 弟 \n",
      "= they are my brothers\n",
      "< you are not a coward <EOS>\n",
      "\n",
      "> 她 现 在 正 在 吃 午 餐 \n",
      "= she is having lunch now\n",
      "< you are absolutely right now <EOS>\n",
      "\n",
      "> 他 害 怕 蛇 \n",
      "= he is afraid of snakes\n",
      "< you are not authorized to <EOS>\n",
      "\n",
      "> 他 們 是 高 中 生 \n",
      "= they are high school students\n",
      "< you are not a coward <EOS>\n",
      "\n",
      "> 我 是 匈 牙 利 人 \n",
      "= i am hungarian\n",
      "< he is poor at chemistry <EOS>\n",
      "\n",
      "> 他 不 是 傻 子 \n",
      "= he is no fool\n",
      "< you are absolutely right this subject <EOS>\n",
      "\n",
      "> 你 對 批 評 太 敏 感 了 \n",
      "= you are too sensitive to criticism\n",
      "< he is poor at the game <EOS>\n",
      "\n",
      "> 我 们 非 常 需 要 食 物 \n",
      "= we are badly in need of food\n",
      "< he is mean to arrive a <EOS>\n",
      "\n",
      "> 他 今 天 在 家 \n",
      "= he is at home today\n",
      "< you are absolutely right this subject <EOS>\n",
      "\n",
      "> 他 很 高 \n",
      "= he is very tall\n",
      "< you are absolutely right this subject <EOS>\n",
      "\n",
      "> 她 跟 你 一 樣 高 \n",
      "= she is as tall as you\n",
      "< he is poor at the game <EOS>\n",
      "\n",
      "> 他 是 一 名 高 中 學 生 \n",
      "= he is a student at a high school\n",
      "< he is not a dj <EOS>\n",
      "\n",
      "> 你 們 不 再 是 小 孩 了 \n",
      "= you aren't kids anymore\n",
      "< you are absolutely right now <EOS>\n",
      "\n",
      "> 我 會 開 車 \n",
      "= i am able to drive a car\n",
      "< you are not a coward <EOS>\n",
      "\n",
      "> 他 一 天 一 天 地 好 轉 \n",
      "= he is getting better day by day\n",
      "< you are not a coward <EOS>\n",
      "\n",
      "> 他 在 厨 房 \n",
      "= he is in the kitchen\n",
      "< you are absolutely right this subject <EOS>\n",
      "\n",
      "> 他 將 競 選 市 長 \n",
      "= he is going to run for mayor\n",
      "< you are absolutely right a <EOS>\n",
      "\n",
      "> 你 没 受 到 邀 请 \n",
      "= you aren't invited\n",
      "< you are not a coward <EOS>\n",
      "\n",
      "> 我 跟 她 訂 婚 了 \n",
      "= i am engaged to her\n",
      "< he is poor at the game <EOS>\n",
      "\n",
      "> 他 不 过 是 个 孩 子 \n",
      "= he is but a child\n",
      "< you are absolutely right this subject <EOS>\n",
      "\n",
      "> 他 在 自 己 房 里 玩 \n",
      "= he is playing in his room\n",
      "< you are absolutely right now <EOS>\n",
      "\n",
      "> 我 在 家 裡 \n",
      "= i am at home\n",
      "< you are not authorized to drive <EOS>\n",
      "\n",
      "> 他 說 謊 \n",
      "= he is telling a lie\n",
      "< he is poor at riding a <EOS>\n",
      "\n",
      "> 他 们 不 怕 死 \n",
      "= they aren't afraid of death\n",
      "< you are not a coward <EOS>\n",
      "\n",
      "> 他 不 是 個 高 中 生 \n",
      "= he is not a high school student\n",
      "< you are absolutely right now <EOS>\n",
      "\n",
      "> 我 1 6 岁 了 \n",
      "= i am sixteen years old\n",
      "< he is mean of teaching english <EOS>\n",
      "\n",
      "> 他 还 在 这 儿 \n",
      "= he is still here\n",
      "< you are absolutely right this subject <EOS>\n",
      "\n",
      "> 我 会 开 车 \n",
      "= i am able to drive a car\n",
      "< he is poor at rugby <EOS>\n",
      "\n",
      "> 你 對 批 評 太 敏 感 了 \n",
      "= you are too sensitive to criticism\n",
      "< you are absolutely right <EOS>\n",
      "\n",
      "> 他 今 晚 会 来 我 家 \n",
      "= he is to come to my house tonight\n",
      "< you are absolutely right this <EOS>\n",
      "\n",
      "> 他 很 勇 敢 \n",
      "= he is very brave\n",
      "< you are not authorized to house <EOS>\n",
      "\n",
      "> 我 期 待 見 到 你 \n",
      "= i am looking forward to seeing you\n",
      "< you are absolutely right this subject <EOS>\n",
      "\n",
      "> 他 們 正 在 拆 這 面 牆 \n",
      "= they are breaking down the wall\n",
      "< you are absolutely right now <EOS>\n",
      "\n",
      "> 他 們 非 常 大 \n",
      "= they are very big\n",
      "< you are absolutely right this <EOS>\n",
      "\n",
      "> 你 令 人 难 以 抗 拒 \n",
      "= you are irresistible\n",
      "< he is poor at chemistry <EOS>\n",
      "\n",
      "> 他 沒 有 他 弟 弟 聰 明 \n",
      "= he is not as intelligent as his brother\n",
      "< you are not a coward <EOS>\n",
      "\n",
      "> 他 總 是 要 錢 \n",
      "= he is always asking for money\n",
      "< he is poor at rugby <EOS>\n",
      "\n",
      "> 我 们 非 常 需 要 食 物 \n",
      "= we are badly in need of food\n",
      "< you are not authorized to <EOS>\n",
      "\n",
      "> 我 們 很 節 省 地 旅 行 \n",
      "= we are traveling on a tight budget\n",
      "< he is poor at rugby <EOS>\n",
      "\n",
      "> 他 全 神 贯 注 \n",
      "= he is giving his whole attention to that\n",
      "< you are not a coward <EOS>\n",
      "\n",
      "> 我 喜 歡 車 \n",
      "= i am fond of cars\n",
      "< he is not to arrive soon <EOS>\n",
      "\n",
      "> 他 是 個 很 體 貼 的 人 \n",
      "= he is a very thoughtful person\n",
      "< he is poor at rugby <EOS>\n",
      "\n",
      "> 我 今 天 休 息 \n",
      "= i am off today\n",
      "< he is poor at rugby <EOS>\n",
      "\n",
      "> 他 一 點 一 點 地 變 好 \n",
      "= he is getting better bit by bit\n",
      "< you are absolutely right this subject <EOS>\n",
      "\n",
      "> 你 隨 時 可 以 回 家 \n",
      "= you are free to go home\n",
      "< he is poor at the game <EOS>\n",
      "\n",
      "> 他 們 非 常 大 \n",
      "= they are very big\n",
      "< you are absolutely right this subject <EOS>\n",
      "\n",
      "> 他 缺 乏 經 驗 \n",
      "= he is lacking in experience\n",
      "< you are not authorized to house <EOS>\n",
      "\n",
      "> 她 是 我 女 儿 \n",
      "= she is my daughter\n",
      "< he is not qualified for the accident <EOS>\n",
      "\n",
      "> 她 不 怕 死 \n",
      "= she isn't afraid of death\n",
      "< he is poor at rugby <EOS>\n",
      "\n",
      "> 我 在 吃 米 饭 \n",
      "= i am eating rice\n",
      "< he is not qualified for the accident <EOS>\n",
      "\n",
      "> 他 不 过 是 个 孩 子 \n",
      "= he is but a child\n",
      "< you are absolutely right this <EOS>\n",
      "\n",
      "> 我 是 大 学 教 授 \n",
      "= i am a professor\n",
      "< he is poor at chemistry <EOS>\n",
      "\n",
      "> 我 现 在 3 0 岁 了 \n",
      "= i am 30 years old now\n",
      "< he is not a dj <EOS>\n",
      "\n",
      "> 她 在 找 她 的 車 鑰 匙 \n",
      "= she is looking for her car keys\n",
      "< he is not a dj <EOS>\n",
      "\n",
      "> 你 累 了 ， 不 是 吗 \n",
      "= you are tired, aren't you\n",
      "< he is poor at all wrong <EOS>\n",
      "\n",
      "> 我 來 了 \n",
      "= i am coming\n",
      "< he is poor at the game <EOS>\n",
      "\n",
      "> 他 非 常 怕 他 的 母 親 \n",
      "= he is very afraid of his mother\n",
      "< you are not a coward <EOS>\n",
      "\n",
      "> 你 总 是 迟 到 \n",
      "= you are always late\n",
      "< you are absolutely right this subject <EOS>\n",
      "\n",
      "> 她 擅 長 說 英 文 \n",
      "= she is good at speaking english\n",
      "< he is poor at rugby <EOS>\n",
      "\n",
      "> 她 是 个 合 格 的 护 士 \n",
      "= she is qualified as a nurse\n",
      "< he is poor at the game <EOS>\n",
      "\n",
      "> 我 明 天 會 去 打 網 球 \n",
      "= i am going to play tennis tomorrow\n",
      "< he is mean of teaching <EOS>\n",
      "\n",
      "> 他 是 老 师 \n",
      "= he is a teacher\n",
      "< you are absolutely right this subject <EOS>\n",
      "\n",
      "> 她 吃 \n",
      "= she is eating\n",
      "< he is poor at the game <EOS>\n",
      "\n",
      "> 他 是 老 师 \n",
      "= he is a teacher\n",
      "< you are absolutely right this subject <EOS>\n",
      "\n",
      "> 她 喜 歡 唱 老 歌 \n",
      "= she is fond of singing old songs\n",
      "< he is not qualified for the accident <EOS>\n",
      "\n",
      "> 她 已 经 睡 下 了 \n",
      "= she is already sleeping\n",
      "< he is poor at riding <EOS>\n",
      "\n",
      "> 他 不 能 买 车 \n",
      "= he isn't able to buy a car\n",
      "< you are absolutely right now <EOS>\n",
      "\n",
      "> 她 在 处 理 问 题 \n",
      "= she is working on the problem\n",
      "< he is poor at the game <EOS>\n",
      "\n",
      "> 他 總 是 忘 記 事 情 \n",
      "= he is always forgetting things\n",
      "< you are not a coward <EOS>\n",
      "\n",
      "> 我 等 你 把 作 業 做 完 \n",
      "= i am waiting for you to finish your homework\n",
      "< he is mean of teaching english <EOS>\n",
      "\n",
      "> 我 們 很 節 省 地 旅 行 \n",
      "= we are traveling on a tight budget\n",
      "< he is poor at rugby <EOS>\n",
      "\n",
      "> 我 在 家 裡 \n",
      "= i am at home\n",
      "< he is mean of oil in love <EOS>\n",
      "\n",
      "> 他 一 定 会 成 功 \n",
      "= he is sure to succeed\n",
      "< you are not a coward <EOS>\n",
      "\n",
      "> 她 非 常 周 到 和 耐 心 \n",
      "= she is very thoughtful and patient\n",
      "< he is not qualified for money <EOS>\n",
      "\n",
      "> 我 指 望 你 了 \n",
      "= i am counting on you\n",
      "< he is poor at rugby <EOS>\n",
      "\n",
      "> 她 今 年 秋 天 要 結 婚 \n",
      "= she is getting married this fall\n",
      "< he is mean <EOS>\n",
      "\n",
      "> 她 跟 你 一 樣 高 \n",
      "= she is as tall as you\n",
      "< he is poor at the game <EOS>\n",
      "\n",
      "> 她 是 个 倔 强 的 女 孩 \n",
      "= she is an obstinate girl\n",
      "< he is mean of oil in love <EOS>\n",
      "\n",
      "> 你 累 了 ， 不 是 吗 \n",
      "= you are tired, aren't you\n",
      "< you are absolutely right now <EOS>\n",
      "\n",
      "> 失 败 的 责 任 在 他 \n",
      "= he is to blame for the failure\n",
      "< you are absolutely right this subject <EOS>\n",
      "\n",
      "> 他 們 在 看 一 部 電 影 \n",
      "= they are watching a movie\n",
      "< you are responsible for a <EOS>\n",
      "\n",
      "> 他 面 臨 著 許 多 困 難 \n",
      "= he is confronted by many difficulties\n",
      "< you are absolutely right this subject <EOS>\n",
      "\n",
      "> 我 遇 到 困 難 了 \n",
      "= i am in trouble\n",
      "< he is poor at the game <EOS>\n",
      "\n",
      "> 他 有 点 像 他 的 父 亲 \n",
      "= he is a bit like his father\n",
      "< you are not a coward <EOS>\n",
      "\n",
      "> 他 怕 那 只 狗 \n",
      "= he is afraid of the dog\n",
      "< you are responsible for the accident <EOS>\n",
      "\n",
      "> 今 天 我 要 去 看 他 \n",
      "= i am going to see him today\n",
      "< you are not a letter <EOS>\n",
      "\n",
      "The bleu_score is  5.785685470443763e-156\n"
     ]
    }
   ],
   "execution_count": 20
  },
  {
   "cell_type": "code",
   "metadata": {
    "ExecuteTime": {
     "end_time": "2024-11-04T07:07:54.549928Z",
     "start_time": "2024-11-04T07:07:54.536246Z"
    }
   },
   "source": [
    "import matplotlib.pyplot as plt\n",
    "\n",
    "# 设置字体和解决负号显示问题\n",
    "plt.rcParams['font.sans-serif'] = ['KaiTi']  # 指定默认字体为楷体\n",
    "plt.rcParams['axes.unicode_minus'] = False  # 解决保存图像时负号'-'显示为方块的问题\n",
    "\n",
    "plt.rcParams['font.sans-serif'] = ['KaiTi'] # 指定默认字体\n",
    "plt.rcParams['axes.unicode_minus'] = False # 解决保存图像是负号'-'显示为方块的问题"
   ],
   "outputs": [],
   "execution_count": 21
  },
  {
   "cell_type": "code",
   "metadata": {
    "ExecuteTime": {
     "end_time": "2024-11-04T07:07:54.721879Z",
     "start_time": "2024-11-04T07:07:54.567074Z"
    }
   },
   "source": [
    "import matplotlib.pyplot as plt\n",
    "encoder1 = EncoderRNN(input_lang.n_words, hidden_size).to(device)\n",
    "output_words, attentions = evaluate(\n",
    "    encoder1, attn_decoder1, \"你 只 是 玩\")\n",
    "print(output_words)\n",
    "plt.rcParams['font.sans-serif'] = ['KaiTi']  # 指定默认字体为楷体\n",
    "plt.rcParams['axes.unicode_minus'] = False  # 解决保存图像时负号'-'显示为方块的问题\n",
    "\n",
    "plt.rcParams['font.sans-serif'] = ['KaiTi'] # 指定默认字体\n",
    "plt.rcParams['axes.unicode_minus'] = False\n",
    "plt.matshow(attentions.numpy())\n",
    "plt.show()"
   ],
   "outputs": [
    {
     "name": "stdout",
     "output_type": "stream",
     "text": [
      "['you', 'are', 'absolutely', 'right', 'now', '<EOS>']\n"
     ]
    },
    {
     "data": {
      "text/plain": [
       "<Figure size 800x480 with 1 Axes>"
      ],
      "image/png": "[encoded data removed]"
     },
     "metadata": {},
     "output_type": "display_data"
    }
   ],
   "execution_count": 22
  },
  {
   "cell_type": "code",
   "metadata": {
    "scrolled": false,
    "ExecuteTime": {
     "end_time": "2024-11-04T07:07:55.662636Z",
     "start_time": "2024-11-04T07:07:54.771054Z"
    }
   },
   "source": [
    "import matplotlib.pyplot as plt\n",
    "def showAttention(input_sentence, output_words, attentions):\n",
    "    # Set up figure with colorbar\n",
    "    fig = plt.figure()\n",
    "    ax = fig.add_subplot(111)\n",
    "    cax = ax.matshow(attentions.numpy(), cmap='bone')\n",
    "    fig.colorbar(cax)\n",
    "\n",
    "    # Set up axes\n",
    "    ax.set_xticklabels([''] + input_sentence.split(' ') +\n",
    "                       ['<EOS>'], rotation=90)\n",
    "    ax.set_yticklabels([''] + output_words)\n",
    "\n",
    "    # Show label at every tick\n",
    "    ax.xaxis.set_major_locator(ticker.MultipleLocator(1))\n",
    "    ax.yaxis.set_major_locator(ticker.MultipleLocator(1))\n",
    "\n",
    "    plt.show()\n",
    "\n",
    "\n",
    "def evaluateAndShowAttention(input_sentence):\n",
    "    encoder1 = EncoderRNN(input_lang.n_words, hidden_size).to(device)\n",
    "    output_words, attentions = evaluate(\n",
    "        encoder1, attn_decoder1, input_sentence)\n",
    "    print('input =', input_sentence)\n",
    "    print('output =', ' '.join(output_words))\n",
    "    showAttention(input_sentence, output_words, attentions)\n",
    "\n",
    "\n",
    "evaluateAndShowAttention(\"他 和 他 的 邻 居 相 处 \")\n",
    "\n",
    "evaluateAndShowAttention(\"我 肯 定 他 会 成 功 的 \")\n",
    "\n",
    "evaluateAndShowAttention(\"他 總 是 忘 記 事 情\")\n",
    "\n",
    "evaluateAndShowAttention(\"我 们 非 常 需 要 食 物 \")"
   ],
   "outputs": [
    {
     "name": "stdout",
     "output_type": "stream",
     "text": [
      "input = 他 和 他 的 邻 居 相 处 \n",
      "output = he is mean to be a <EOS>\n"
     ]
    },
    {
     "name": "stderr",
     "output_type": "stream",
     "text": [
      "C:\\Users\\Lenovo\\AppData\\Local\\Temp\\ipykernel_5224\\3025779216.py:10: UserWarning: set_ticklabels() should only be used with a fixed number of ticks, i.e. after set_ticks() or using a FixedLocator.\n",
      "  ax.set_xticklabels([''] + input_sentence.split(' ') +\n",
      "C:\\Users\\Lenovo\\AppData\\Local\\Temp\\ipykernel_5224\\3025779216.py:12: UserWarning: set_ticklabels() should only be used with a fixed number of ticks, i.e. after set_ticks() or using a FixedLocator.\n",
      "  ax.set_yticklabels([''] + output_words)\n"
     ]
    },
    {
     "data": {
      "text/plain": [
       "<Figure size 640x480 with 2 Axes>"
      ],
      "image/png": "[encoded data removed]"
     },
     "metadata": {},
     "output_type": "display_data"
    },
    {
     "name": "stdout",
     "output_type": "stream",
     "text": [
      "input ="
     ]
    },
    {
     "name": "stderr",
     "output_type": "stream",
     "text": [
      "C:\\Users\\Lenovo\\AppData\\Local\\Temp\\ipykernel_5224\\3025779216.py:10: UserWarning: set_ticklabels() should only be used with a fixed number of ticks, i.e. after set_ticks() or using a FixedLocator.\n",
      "  ax.set_xticklabels([''] + input_sentence.split(' ') +\n",
      "C:\\Users\\Lenovo\\AppData\\Local\\Temp\\ipykernel_5224\\3025779216.py:12: UserWarning: set_ticklabels() should only be used with a fixed number of ticks, i.e. after set_ticks() or using a FixedLocator.\n",
      "  ax.set_yticklabels([''] + output_words)\n"
     ]
    },
    {
     "name": "stdout",
     "output_type": "stream",
     "text": [
      " 我 肯 定 他 会 成 功 的 \n",
      "output = you are not a coward <EOS>\n"
     ]
    },
    {
     "data": {
      "text/plain": [
       "<Figure size 640x480 with 2 Axes>"
      ],
      "image/png": "[encoded data removed]"
     },
     "metadata": {},
     "output_type": "display_data"
    },
    {
     "name": "stdout",
     "output_type": "stream",
     "text": [
      "input = 他 總 是 忘 記 事 情\n",
      "output = he is poor at the game <EOS>\n"
     ]
    },
    {
     "name": "stderr",
     "output_type": "stream",
     "text": [
      "C:\\Users\\Lenovo\\AppData\\Local\\Temp\\ipykernel_5224\\3025779216.py:10: UserWarning: set_ticklabels() should only be used with a fixed number of ticks, i.e. after set_ticks() or using a FixedLocator.\n",
      "  ax.set_xticklabels([''] + input_sentence.split(' ') +\n",
      "C:\\Users\\Lenovo\\AppData\\Local\\Temp\\ipykernel_5224\\3025779216.py:12: UserWarning: set_ticklabels() should only be used with a fixed number of ticks, i.e. after set_ticks() or using a FixedLocator.\n",
      "  ax.set_yticklabels([''] + output_words)\n"
     ]
    },
    {
     "data": {
      "text/plain": [
       "<Figure size 640x480 with 2 Axes>"
      ],
      "image/png": "[encoded data removed]"
     },
     "metadata": {},
     "output_type": "display_data"
    },
    {
     "name": "stdout",
     "output_type": "stream",
     "text": [
      "input = 我 们 非 常 需 要 食 物 \n",
      "output = he is poor at top <EOS>\n"
     ]
    },
    {
     "name": "stderr",
     "output_type": "stream",
     "text": [
      "C:\\Users\\Lenovo\\AppData\\Local\\Temp\\ipykernel_5224\\3025779216.py:10: UserWarning: set_ticklabels() should only be used with a fixed number of ticks, i.e. after set_ticks() or using a FixedLocator.\n",
      "  ax.set_xticklabels([''] + input_sentence.split(' ') +\n",
      "C:\\Users\\Lenovo\\AppData\\Local\\Temp\\ipykernel_5224\\3025779216.py:12: UserWarning: set_ticklabels() should only be used with a fixed number of ticks, i.e. after set_ticks() or using a FixedLocator.\n",
      "  ax.set_yticklabels([''] + output_words)\n"
     ]
    },
    {
     "data": {
      "text/plain": [
       "<Figure size 640x480 with 2 Axes>"
      ],
      "image/png": "[encoded data removed]"
     },
     "metadata": {},
     "output_type": "display_data"
    }
   ],
   "execution_count": 23
  }
 ],
 "metadata": {
  "kernelspec": {
   "display_name": "Python 3 (ipykernel)",
   "language": "python",
   "name": "python3"
  },
  "language_info": {
   "codemirror_mode": {
    "name": "ipython",
    "version": 3
   },
   "file_extension": ".py",
   "mimetype": "text/x-python",
   "name": "python",
   "nbconvert_exporter": "python",
   "pygments_lexer": "ipython3",
   "version": "3.9.12"
  },
  "varInspector": {
   "cols": {
    "lenName": 16,
    "lenType": 16,
    "lenVar": 40
   },
   "kernels_config": {
    "python": {
     "delete_cmd_postfix": "",
     "delete_cmd_prefix": "del ",
     "library": "var_list.py",
     "varRefreshCmd": "print(var_dic_list())"
    },
    "r": {
     "delete_cmd_postfix": ") ",
     "delete_cmd_prefix": "rm(",
     "library": "var_list.r",
     "varRefreshCmd": "cat(var_dic_list()) "
    }
   },
   "types_to_exclude": [
    "module",
    "function",
    "builtin_function_or_method",
    "instance",
    "_Feature"
   ],
   "window_display": false
  }
 },
 "nbformat": 4,
 "nbformat_minor": 4
}
