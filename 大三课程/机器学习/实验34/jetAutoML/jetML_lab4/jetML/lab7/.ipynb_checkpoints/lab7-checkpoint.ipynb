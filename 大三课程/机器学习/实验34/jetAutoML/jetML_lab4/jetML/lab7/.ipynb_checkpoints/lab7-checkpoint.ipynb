{
 "cells": [
  {
   "cell_type": "code",
   "metadata": {
    "ExecuteTime": {
     "end_time": "2024-11-03T15:39:18.030288Z",
     "start_time": "2024-11-03T15:39:11.918728Z"
    }
   },
   "source": [
    "from __future__ import unicode_literals, print_function, division\n",
    "from io import open\n",
    "# from numpy.lib.stride_tricks import broadcast_to\n",
    "import unicodedata\n",
    "import string\n",
    "import re\n",
    "import random\n",
    "\n",
    "import torch\n",
    "import torch.nn as nn\n",
    "from torch import optim\n",
    "import torch.nn.functional as F\n",
    "\n",
    "import numpy as np\n",
    "import jupyter\n",
    "import matplotlib\n",
    "import matplotlib.pyplot as plt\n",
    "import nltk\n",
    "from nltk.translate.bleu_score import sentence_bleu\n",
    "device = torch.device(\"cuda\" if torch.cuda.is_available() else \"cpu\")\n",
    "device"
   ],
   "outputs": [
    {
     "data": {
      "text/plain": [
       "device(type='cuda')"
      ]
     },
     "execution_count": 1,
     "metadata": {},
     "output_type": "execute_result"
    }
   ],
   "execution_count": 1
  },
  {
   "cell_type": "code",
   "metadata": {
    "ExecuteTime": {
     "end_time": "2024-11-03T15:39:18.060578Z",
     "start_time": "2024-11-03T15:39:18.052414Z"
    }
   },
   "source": [
    "SOS_token = 0\n",
    "EOS_token = 1\n",
    "\n",
    "\n",
    "class Lang:\n",
    "    def __init__(self, name):\n",
    "        self.name = name\n",
    "        self.word2index = {}\n",
    "        self.word2count = {}\n",
    "        self.index2word = {0: \"SOS\", 1: \"EOS\"}\n",
    "        self.n_words = 2  # Count SOS and EOS\n",
    "\n",
    "    def addSentence(self, sentence):\n",
    "        for word in sentence.split(' '):\n",
    "            self.addWord(word)\n",
    "\n",
    "    def addWord(self, word):\n",
    "        if word not in self.word2index:\n",
    "            self.word2index[word] = self.n_words\n",
    "            self.word2count[word] = 1\n",
    "            self.index2word[self.n_words] = word\n",
    "            self.n_words += 1\n",
    "        else:\n",
    "            self.word2count[word] += 1"
   ],
   "outputs": [],
   "execution_count": 2
  },
  {
   "cell_type": "code",
   "metadata": {
    "ExecuteTime": {
     "end_time": "2024-11-03T15:39:18.526440Z",
     "start_time": "2024-11-03T15:39:18.512717Z"
    }
   },
   "source": [
    "def unicodeToAscii(s):\n",
    "    return ''.join(\n",
    "    c for c in unicodedata.normalize('NFD', s)\n",
    "    if unicodedata.category(c) != 'Mn'\n",
    "    )\n",
    "\n",
    "\n",
    "# 其中normalizeString函数中的正则表达式需对应更改，否则会将中文单词替换成空格\n",
    "def normalizeString(s):\n",
    "    #变成小写，去掉前后空格\n",
    "    s = s.lower().strip()\n",
    "    if ' ' not in s:\n",
    "        s = list(s)\n",
    "        s = ' '.join(s)\n",
    "    s = unicodeToAscii(s)  #将unicode变成ascii\n",
    "    s = re.sub(r\"([.。!！?？])\", \"\", s)\n",
    "    return s\n"
   ],
   "outputs": [],
   "execution_count": 3
  },
  {
   "cell_type": "code",
   "metadata": {
    "ExecuteTime": {
     "end_time": "2024-11-03T15:39:18.558457Z",
     "start_time": "2024-11-03T15:39:18.544427Z"
    }
   },
   "source": [
    "def readLangs(lang1, lang2, reverse=False):\n",
    "    print(\"Reading lines...\")\n",
    "\n",
    "    # Read the file and split into lines\n",
    "    file_path = \"./data/eng-cmn.txt\"\n",
    "    with open(file_path, encoding='utf-8') as file:\n",
    "        lines = file.readlines()\n",
    "    \n",
    "\n",
    "    # Split every line into pairs and normalize\n",
    "    pairs = [[normalizeString(s) for s in l.split('\\t')[:2]] for l in lines]\n",
    "\n",
    "\n",
    "    # Reverse pairs, make Lang instances\n",
    "    if reverse:\n",
    "        pairs = [list(reversed(p)) for p in pairs]\n",
    "        input_lang = Lang(lang2)\n",
    "        output_lang = Lang(lang1)\n",
    "    else:\n",
    "        input_lang = Lang(lang1)\n",
    "        output_lang = Lang(lang2)\n",
    "\n",
    "    return input_lang, output_lang, pairs"
   ],
   "outputs": [],
   "execution_count": 4
  },
  {
   "cell_type": "code",
   "metadata": {
    "ExecuteTime": {
     "end_time": "2024-11-03T15:39:18.589483Z",
     "start_time": "2024-11-03T15:39:18.576515Z"
    }
   },
   "source": [
    "MAX_LENGTH = 10\n",
    "\n",
    "eng_prefixes = (\n",
    "    \"i am \", \"i m \",\n",
    "    \"he is\", \"he s \",\n",
    "    \"she is\", \"she s \",\n",
    "    \"you are\", \"you re \",\n",
    "    \"we are\", \"we re \",\n",
    "    \"they are\", \"they re \"\n",
    ")\n",
    "\n",
    "\n",
    "def filterPair(p):\n",
    "    return len(p[0].split(' ')) < MAX_LENGTH and \\\n",
    "        len(p[1].split(' ')) < MAX_LENGTH and \\\n",
    "        p[1].startswith(eng_prefixes)\n",
    "\n",
    "\n",
    "def filterPairs(pairs):\n",
    "    return [pair for pair in pairs if filterPair(pair)]"
   ],
   "outputs": [],
   "execution_count": 5
  },
  {
   "cell_type": "code",
   "metadata": {
    "ExecuteTime": {
     "end_time": "2024-11-03T15:39:18.620561Z",
     "start_time": "2024-11-03T15:39:18.606777Z"
    }
   },
   "source": [
    "def prepareData(lang1, lang2, reverse=False):\n",
    "    input_lang, output_lang, pairs = readLangs(lang1, lang2, reverse)\n",
    "    print(\"Read %s sentence pairs\" % len(pairs))\n",
    "    pairs = filterPairs(pairs)\n",
    "    print(\"Trimmed to %s sentence pairs\" % len(pairs))\n",
    "    print(\"Counting words...\")\n",
    "    for pair in pairs:\n",
    "        input_lang.addSentence(pair[0])\n",
    "        output_lang.addSentence(pair[1])\n",
    "    print(\"Counted words:\")\n",
    "    print(input_lang.name, input_lang.n_words)\n",
    "    print(output_lang.name, output_lang.n_words)\n",
    "    return input_lang, output_lang, pairs\n",
    "\n"
   ],
   "outputs": [],
   "execution_count": 6
  },
  {
   "cell_type": "code",
   "metadata": {
    "ExecuteTime": {
     "end_time": "2024-11-03T15:39:19.442561Z",
     "start_time": "2024-11-03T15:39:18.640624Z"
    }
   },
   "source": [
    "input_lang, output_lang, pairs = prepareData('eng', 'cmn', True)\n",
    "print(random.choice(pairs))\n"
   ],
   "outputs": [
    {
     "name": "stdout",
     "output_type": "stream",
     "text": [
      "Reading lines...\n"
     ]
    },
    {
     "ename": "FileNotFoundError",
     "evalue": "[Errno 2] No such file or directory: './data/eng-cmn.txt'",
     "output_type": "error",
     "traceback": [
      "\u001B[1;31m---------------------------------------------------------------------------\u001B[0m",
      "\u001B[1;31mFileNotFoundError\u001B[0m                         Traceback (most recent call last)",
      "Cell \u001B[1;32mIn[7], line 1\u001B[0m\n\u001B[1;32m----> 1\u001B[0m input_lang, output_lang, pairs \u001B[38;5;241m=\u001B[39m \u001B[43mprepareData\u001B[49m\u001B[43m(\u001B[49m\u001B[38;5;124;43m'\u001B[39;49m\u001B[38;5;124;43meng\u001B[39;49m\u001B[38;5;124;43m'\u001B[39;49m\u001B[43m,\u001B[49m\u001B[43m \u001B[49m\u001B[38;5;124;43m'\u001B[39;49m\u001B[38;5;124;43mcmn\u001B[39;49m\u001B[38;5;124;43m'\u001B[39;49m\u001B[43m,\u001B[49m\u001B[43m \u001B[49m\u001B[38;5;28;43;01mTrue\u001B[39;49;00m\u001B[43m)\u001B[49m\n\u001B[0;32m      2\u001B[0m \u001B[38;5;28mprint\u001B[39m(random\u001B[38;5;241m.\u001B[39mchoice(pairs))\n",
      "Cell \u001B[1;32mIn[6], line 2\u001B[0m, in \u001B[0;36mprepareData\u001B[1;34m(lang1, lang2, reverse)\u001B[0m\n\u001B[0;32m      1\u001B[0m \u001B[38;5;28;01mdef\u001B[39;00m \u001B[38;5;21mprepareData\u001B[39m(lang1, lang2, reverse\u001B[38;5;241m=\u001B[39m\u001B[38;5;28;01mFalse\u001B[39;00m):\n\u001B[1;32m----> 2\u001B[0m     input_lang, output_lang, pairs \u001B[38;5;241m=\u001B[39m \u001B[43mreadLangs\u001B[49m\u001B[43m(\u001B[49m\u001B[43mlang1\u001B[49m\u001B[43m,\u001B[49m\u001B[43m \u001B[49m\u001B[43mlang2\u001B[49m\u001B[43m,\u001B[49m\u001B[43m \u001B[49m\u001B[43mreverse\u001B[49m\u001B[43m)\u001B[49m\n\u001B[0;32m      3\u001B[0m     \u001B[38;5;28mprint\u001B[39m(\u001B[38;5;124m\"\u001B[39m\u001B[38;5;124mRead \u001B[39m\u001B[38;5;132;01m%s\u001B[39;00m\u001B[38;5;124m sentence pairs\u001B[39m\u001B[38;5;124m\"\u001B[39m \u001B[38;5;241m%\u001B[39m \u001B[38;5;28mlen\u001B[39m(pairs))\n\u001B[0;32m      4\u001B[0m     pairs \u001B[38;5;241m=\u001B[39m filterPairs(pairs)\n",
      "Cell \u001B[1;32mIn[4], line 6\u001B[0m, in \u001B[0;36mreadLangs\u001B[1;34m(lang1, lang2, reverse)\u001B[0m\n\u001B[0;32m      4\u001B[0m \u001B[38;5;66;03m# Read the file and split into lines\u001B[39;00m\n\u001B[0;32m      5\u001B[0m file_path \u001B[38;5;241m=\u001B[39m \u001B[38;5;124m\"\u001B[39m\u001B[38;5;124m./data/eng-cmn.txt\u001B[39m\u001B[38;5;124m\"\u001B[39m\n\u001B[1;32m----> 6\u001B[0m \u001B[38;5;28;01mwith\u001B[39;00m \u001B[38;5;28;43mopen\u001B[39;49m\u001B[43m(\u001B[49m\u001B[43mfile_path\u001B[49m\u001B[43m,\u001B[49m\u001B[43m \u001B[49m\u001B[43mencoding\u001B[49m\u001B[38;5;241;43m=\u001B[39;49m\u001B[38;5;124;43m'\u001B[39;49m\u001B[38;5;124;43mutf-8\u001B[39;49m\u001B[38;5;124;43m'\u001B[39;49m\u001B[43m)\u001B[49m \u001B[38;5;28;01mas\u001B[39;00m file:\n\u001B[0;32m      7\u001B[0m     lines \u001B[38;5;241m=\u001B[39m file\u001B[38;5;241m.\u001B[39mreadlines()\n\u001B[0;32m     10\u001B[0m \u001B[38;5;66;03m# Split every line into pairs and normalize\u001B[39;00m\n",
      "\u001B[1;31mFileNotFoundError\u001B[0m: [Errno 2] No such file or directory: './data/eng-cmn.txt'"
     ]
    }
   ],
   "execution_count": 7
  },
  {
   "cell_type": "code",
   "metadata": {
    "ExecuteTime": {
     "end_time": "2024-11-03T15:39:19.457574100Z",
     "start_time": "2024-11-03T11:48:47.310635Z"
    }
   },
   "source": [
    "'''file_path = \"./data/eng-cmn.txt\"\n",
    "with open(file_path, encoding='utf-8') as file:\n",
    "    lines = file.readlines()\n",
    "pairs = [[normalizeString(l).split('\\t')[:2]] for l in lines]\n",
    "cn = []\n",
    "eng = []\n",
    "for p in pairs:\n",
    "    p=np.array(p)\n",
    "    eng.append([p[0,0]])\n",
    "    cn.append([p[0,1]])'''"
   ],
   "outputs": [
    {
     "data": {
      "text/plain": [
       "'file_path = \"./data/eng-cmn.txt\"\\nwith open(file_path, encoding=\\'utf-8\\') as file:\\n    lines = file.readlines()\\npairs = [[normalizeString(l).split(\\'\\t\\')[:2]] for l in lines]\\ncn = []\\neng = []\\nfor p in pairs:\\n    p=np.array(p)\\n    eng.append([p[0,0]])\\n    cn.append([p[0,1]])'"
      ]
     },
     "execution_count": 8,
     "metadata": {},
     "output_type": "execute_result"
    }
   ],
   "execution_count": 8
  },
  {
   "cell_type": "markdown",
   "metadata": {},
   "source": [
    "# The Encoder"
   ]
  },
  {
   "cell_type": "code",
   "metadata": {
    "ExecuteTime": {
     "end_time": "2024-11-03T15:39:19.457574100Z",
     "start_time": "2024-11-03T11:48:47.362029Z"
    }
   },
   "source": [
    "class EncoderRNN(nn.Module):\n",
    "    def __init__(self, input_size, hidden_size):\n",
    "        super(EncoderRNN, self).__init__()\n",
    "        self.hidden_size = hidden_size\n",
    "\n",
    "        self.embedding = nn.Embedding(input_size, hidden_size)\n",
    "        self.gru = nn.GRU(hidden_size, hidden_size)\n",
    "\n",
    "    def forward(self, input, hidden):\n",
    "        embedded = self.embedding(input).view(1, 1, -1)\n",
    "        output = embedded\n",
    "        output, hidden = self.gru(output, hidden)\n",
    "        return output, hidden\n",
    "\n",
    "    def initHidden(self):\n",
    "        return torch.zeros(1, 1, self.hidden_size, device=device)"
   ],
   "outputs": [],
   "execution_count": 9
  },
  {
   "cell_type": "markdown",
   "metadata": {},
   "source": [
    "# Attention Decoder"
   ]
  },
  {
   "cell_type": "code",
   "metadata": {
    "ExecuteTime": {
     "end_time": "2024-11-03T15:39:19.458574400Z",
     "start_time": "2024-11-03T11:48:47.424142Z"
    }
   },
   "source": [
    "class AttnDecoderRNN(nn.Module):\n",
    "    def __init__(self, hidden_size, output_size, dropout_p=0.1, max_length=MAX_LENGTH):\n",
    "        super(AttnDecoderRNN, self).__init__()\n",
    "        self.hidden_size = hidden_size\n",
    "        self.output_size = output_size\n",
    "        self.dropout_p = dropout_p\n",
    "        self.max_length = max_length\n",
    "\n",
    "        self.embedding = nn.Embedding(self.output_size, self.hidden_size)\n",
    "        self.attn = nn.Linear(self.hidden_size * 2, self.max_length)\n",
    "        self.attn_combine = nn.Linear(self.hidden_size * 2, self.hidden_size)\n",
    "        self.dropout = nn.Dropout(self.dropout_p)\n",
    "        self.gru = nn.GRU(self.hidden_size, self.hidden_size)\n",
    "        self.out = nn.Linear(self.hidden_size, self.output_size)\n",
    "\n",
    "    def forward(self, input, hidden, encoder_outputs):\n",
    "        embedded = self.embedding(input).view(1, 1, -1)\n",
    "        embedded = self.dropout(embedded)\n",
    "\n",
    "        attn_weights = F.softmax(\n",
    "            self.attn(torch.cat((embedded[0], hidden[0]), 1)), dim=1)\n",
    "        attn_applied = torch.bmm(attn_weights.unsqueeze(0),\n",
    "                                 encoder_outputs.unsqueeze(0))\n",
    "\n",
    "        output = torch.cat((embedded[0], attn_applied[0]), 1)\n",
    "        output = self.attn_combine(output).unsqueeze(0)\n",
    "\n",
    "        output = F.relu(output)\n",
    "        output, hidden = self.gru(output, hidden)\n",
    "\n",
    "        output = F.log_softmax(self.out(output[0]), dim=1)\n",
    "        return output, hidden, attn_weights\n",
    "\n",
    "    def initHidden(self):\n",
    "        return torch.zeros(1, 1, self.hidden_size, device=device)"
   ],
   "outputs": [],
   "execution_count": 10
  },
  {
   "cell_type": "markdown",
   "metadata": {},
   "source": [
    "# Preparing Training Data"
   ]
  },
  {
   "cell_type": "code",
   "metadata": {
    "ExecuteTime": {
     "end_time": "2024-11-03T15:39:19.458574400Z",
     "start_time": "2024-11-03T11:48:47.477649Z"
    }
   },
   "source": [
    "def indexesFromSentence(lang, sentence):\n",
    "    return [lang.word2index[word] for word in sentence.split(' ')]\n",
    "\n",
    "\n",
    "def tensorFromSentence(lang, sentence):\n",
    "    indexes = indexesFromSentence(lang, sentence)\n",
    "    indexes.append(EOS_token)\n",
    "    return torch.tensor(indexes, dtype=torch.long, device=device).view(-1, 1)\n",
    "\n",
    "\n",
    "def tensorsFromPair(pair):\n",
    "    input_tensor = tensorFromSentence(input_lang, pair[0])\n",
    "    target_tensor = tensorFromSentence(output_lang, pair[1])\n",
    "    return (input_tensor, target_tensor)"
   ],
   "outputs": [],
   "execution_count": 11
  },
  {
   "cell_type": "markdown",
   "metadata": {},
   "source": [
    "# Training the model"
   ]
  },
  {
   "cell_type": "code",
   "metadata": {
    "ExecuteTime": {
     "end_time": "2024-11-03T15:39:19.458574400Z",
     "start_time": "2024-11-03T11:48:47.516295Z"
    }
   },
   "source": [
    "teacher_forcing_ratio = 0.5\n",
    "\n",
    "\n",
    "def train(input_tensor, target_tensor, encoder, decoder, encoder_optimizer, decoder_optimizer, criterion, max_length=MAX_LENGTH):\n",
    "    encoder_hidden = encoder.initHidden()\n",
    "\n",
    "    encoder_optimizer.zero_grad()\n",
    "    decoder_optimizer.zero_grad()\n",
    "\n",
    "    input_length = input_tensor.size(0)\n",
    "    target_length = target_tensor.size(0)\n",
    "\n",
    "    encoder_outputs = torch.zeros(max_length, encoder.hidden_size, device=device)\n",
    "\n",
    "    loss = 0\n",
    "\n",
    "    for ei in range(input_length):\n",
    "        encoder_output, encoder_hidden = encoder(\n",
    "            input_tensor[ei], encoder_hidden)\n",
    "        encoder_outputs[ei] = encoder_output[0, 0]\n",
    "\n",
    "    decoder_input = torch.tensor([[SOS_token]], device=device)\n",
    "\n",
    "    decoder_hidden = encoder_hidden\n",
    "\n",
    "    use_teacher_forcing = True if random.random() < teacher_forcing_ratio else False\n",
    "\n",
    "    if use_teacher_forcing:\n",
    "        # Teacher forcing: Feed the target as the next input\n",
    "        for di in range(target_length):\n",
    "            decoder_output, decoder_hidden, decoder_attention = decoder(\n",
    "                decoder_input, decoder_hidden, encoder_outputs)\n",
    "            loss += criterion(decoder_output, target_tensor[di])\n",
    "            decoder_input = target_tensor[di]  # Teacher forcing\n",
    "\n",
    "    else:\n",
    "        # Without teacher forcing: use its own predictions as the next input\n",
    "        for di in range(target_length):\n",
    "            decoder_output, decoder_hidden, decoder_attention = decoder(\n",
    "                decoder_input, decoder_hidden, encoder_outputs)\n",
    "            topv, topi = decoder_output.topk(1)\n",
    "            decoder_input = topi.squeeze().detach()  # detach from history as input\n",
    "\n",
    "            loss += criterion(decoder_output, target_tensor[di])\n",
    "            if decoder_input.item() == EOS_token:\n",
    "                break\n",
    "\n",
    "    loss.backward()\n",
    "\n",
    "    encoder_optimizer.step()\n",
    "    decoder_optimizer.step()\n",
    "\n",
    "    return loss.item() / target_length"
   ],
   "outputs": [],
   "execution_count": 12
  },
  {
   "cell_type": "code",
   "metadata": {
    "ExecuteTime": {
     "end_time": "2024-11-03T15:39:19.459575200Z",
     "start_time": "2024-11-03T11:48:47.547445Z"
    }
   },
   "source": [
    "#This is a helper function to print time elapsed and estimated time remaining given the current time and progress %.\n",
    "\n",
    "import time\n",
    "import math\n",
    "\n",
    "\n",
    "def asMinutes(s):\n",
    "    m = math.floor(s / 60)\n",
    "    s -= m * 60\n",
    "    return '%dm %ds' % (m, s)\n",
    "\n",
    "\n",
    "def timeSince(since, percent):\n",
    "    now = time.time()\n",
    "    s = now - since\n",
    "    es = s / (percent)\n",
    "    rs = es - s\n",
    "    return '%s (- %s)' % (asMinutes(s), asMinutes(rs))"
   ],
   "outputs": [],
   "execution_count": 13
  },
  {
   "metadata": {
    "ExecuteTime": {
     "end_time": "2024-11-03T15:39:19.459575200Z",
     "start_time": "2024-11-03T11:48:47.580760Z"
    }
   },
   "cell_type": "code",
   "source": [
    "# jetML平台配置\n",
    "\n",
    "from pzmllog import NewLogger\n",
    "\n",
    "learning_rate = 0.01\n",
    "epoch = 1\n",
    "batch_size = 1\n",
    "\n",
    "\n",
    "log = NewLogger(\n",
    "    config={\n",
    "\n",
    "        #实验描述和说明信息\n",
    "        \"description\":\"lab4train\",\n",
    "        #自定义实验名称\n",
    "        \"experiment_name\":\"lab4\",\n",
    "        'port': \"5560\",\n",
    "        'access_token':\"oe9f7l5ax53saarwz0ss1wss\",\n",
    "        'project':\"1698\",\n",
    "        'repository_id':\"a68dac18203a47ed9f35512f4cee5bad\"\n",
    "    },\n",
    "    #超参数集\n",
    "    info = {\n",
    "        \"learning_rate\": learning_rate,\n",
    "        \"epoch\": epoch,\n",
    "        \"batch_size\": batch_size\n",
    "    }\n",
    ")"
   ],
   "outputs": [],
   "execution_count": 14
  },
  {
   "cell_type": "code",
   "metadata": {
    "jupyter": {
     "is_executing": true
    }
   },
   "source": [
    "def trainIters(encoder, decoder, n_iters, print_every=1000, plot_every=100, learning_rate=0.1):\n",
    "    start = time.time()\n",
    "    plot_losses = []\n",
    "    print_loss_total = 0  # Reset every print_every\n",
    "    plot_loss_total = 0  # Reset every plot_every\n",
    "\n",
    "    encoder_optimizer = optim.SGD(encoder.parameters(), lr=learning_rate)\n",
    "    decoder_optimizer = optim.SGD(decoder.parameters(), lr=learning_rate)\n",
    "    training_pairs = [tensorsFromPair(random.choice(pairs))\n",
    "                      for i in range(n_iters)]\n",
    "    criterion = nn.NLLLoss()\n",
    "\n",
    "    for iter in range(1, n_iters + 1):\n",
    "        training_pair = training_pairs[iter - 1]\n",
    "        input_tensor = training_pair[0]\n",
    "        target_tensor = training_pair[1]\n",
    "\n",
    "        loss = train(input_tensor, target_tensor, encoder,\n",
    "                     decoder, encoder_optimizer, decoder_optimizer, criterion)\n",
    "        print_loss_total += loss\n",
    "        plot_loss_total += loss\n",
    "        \n",
    "        # log.Log({\"epoch\":epoch,\"loss\":loss,\"accuracy\":accuracy})\n",
    "        log.Log({\"epoch\":epoch,\"loss\":loss})\n",
    "\n",
    "        if iter % print_every == 0:\n",
    "            print_loss_avg = print_loss_total / print_every\n",
    "            print_loss_total = 0\n",
    "            print('%s (%d %d%%) %.4f' % (timeSince(start, iter / n_iters),\n",
    "                                         iter, iter / n_iters * 100, print_loss_avg))\n",
    "\n",
    "        if iter % plot_every == 0:\n",
    "            plot_loss_avg = plot_loss_total / plot_every\n",
    "            plot_losses.append(plot_loss_avg)\n",
    "            plot_loss_total = 0\n",
    "\n",
    "    showPlot(plot_losses)\n"
   ],
   "outputs": [],
   "execution_count": null
  },
  {
   "cell_type": "markdown",
   "metadata": {},
   "source": [
    "# Plotting results"
   ]
  },
  {
   "cell_type": "code",
   "metadata": {
    "ExecuteTime": {
     "end_time": "2024-11-03T15:39:19.460574500Z",
     "start_time": "2024-11-03T11:18:51.502966Z"
    }
   },
   "source": [
    "import matplotlib.pyplot as plt\n",
    "import matplotlib.ticker as ticker\n",
    "import numpy as np\n",
    "\n",
    "\n",
    "def showPlot(points):\n",
    "    plt.figure()\n",
    "    fig, ax = plt.subplots()\n",
    "    # this locator puts ticks at regular intervals\n",
    "    loc = ticker.MultipleLocator(base=0.2)\n",
    "    ax.yaxis.set_major_locator(loc)\n",
    "    plt.plot(points)\n",
    "    plt.show()"
   ],
   "outputs": [],
   "execution_count": 18
  },
  {
   "cell_type": "markdown",
   "metadata": {
    "ExecuteTime": {
     "end_time": "2020-11-10T01:58:52.080280Z",
     "start_time": "2020-11-10T01:58:52.072221Z"
    }
   },
   "source": [
    "# Evaluation"
   ]
  },
  {
   "cell_type": "code",
   "metadata": {
    "ExecuteTime": {
     "end_time": "2024-11-03T15:39:19.460574500Z",
     "start_time": "2024-11-03T11:18:51.542262Z"
    }
   },
   "source": [
    "def evaluate(encoder, decoder, sentence, max_length=MAX_LENGTH):\n",
    "    with torch.no_grad():\n",
    "        input_tensor = tensorFromSentence(input_lang, sentence)\n",
    "        input_length = input_tensor.size()[0]\n",
    "        encoder_hidden = encoder.initHidden()\n",
    "\n",
    "        encoder_outputs = torch.zeros(max_length, encoder.hidden_size, device=device)\n",
    "\n",
    "        for ei in range(input_length):\n",
    "            encoder_output, encoder_hidden = encoder(input_tensor[ei],\n",
    "                                                     encoder_hidden)\n",
    "            encoder_outputs[ei] += encoder_output[0, 0]\n",
    "\n",
    "        decoder_input = torch.tensor([[SOS_token]], device=device)  # SOS\n",
    "\n",
    "        decoder_hidden = encoder_hidden\n",
    "\n",
    "        decoded_words = []\n",
    "        decoder_attentions = torch.zeros(max_length, max_length)\n",
    "\n",
    "        for di in range(max_length):\n",
    "            decoder_output, decoder_hidden, decoder_attention = decoder(\n",
    "                decoder_input, decoder_hidden, encoder_outputs)\n",
    "            decoder_attentions[di] = decoder_attention.data\n",
    "            topv, topi = decoder_output.data.topk(1)\n",
    "            if topi.item() == EOS_token:\n",
    "                decoded_words.append('<EOS>')\n",
    "                break\n",
    "            else:\n",
    "                decoded_words.append(output_lang.index2word[topi.item()])\n",
    "\n",
    "            decoder_input = topi.squeeze().detach()\n",
    "\n",
    "        return decoded_words, decoder_attentions[:di + 1]"
   ],
   "outputs": [],
   "execution_count": 19
  },
  {
   "cell_type": "code",
   "metadata": {
    "ExecuteTime": {
     "end_time": "2024-11-03T15:39:19.461575500Z",
     "start_time": "2024-11-03T11:18:51.570998Z"
    }
   },
   "source": [
    "def evaluateRandomly(encoder, decoder, n=100):\n",
    "    sum_scores = 0\n",
    "    for i in range(n):\n",
    "        pair = random.choice(pairs)\n",
    "        print('>', pair[0])\n",
    "        print('=', pair[1])\n",
    "        output_words, attentions = evaluate(encoder, decoder, pair[0])\n",
    "        output_sentence = ' '.join(output_words)\n",
    "        print('<', output_sentence)\n",
    "        print('')\n",
    "        w = []\n",
    "        words = pair[1].strip(' ').split(' ')\n",
    "        words.append('<EOS>')\n",
    "        w.append(words)\n",
    "        bleu_score = sentence_bleu(w, output_words)\n",
    "        sum_scores += bleu_score\n",
    "    print('The bleu_score is ', sum_scores/n)"
   ],
   "outputs": [],
   "execution_count": 20
  },
  {
   "cell_type": "markdown",
   "metadata": {},
   "source": [
    "# Training and Evaluating"
   ]
  },
  {
   "cell_type": "code",
   "metadata": {
    "jupyter": {
     "is_executing": true
    },
    "ExecuteTime": {
     "end_time": "2024-11-03T15:39:19.461575500Z",
     "start_time": "2024-11-03T11:21:51.691686Z"
    }
   },
   "source": [
    "hidden_size = 256\n",
    "from nltk.translate.bleu_score import sentence_bleu\n",
    "device = torch.device(\"cuda\" if torch.cuda.is_available() else \"cpu\")\n",
    "# device\n",
    "encoder1 = EncoderRNN(input_lang.n_words, hidden_size).to(device)\n",
    "attn_decoder1 = AttnDecoderRNN(hidden_size, output_lang.n_words, dropout_p=0.1).to(device)\n",
    "\n",
    "log.Run()\n",
    "# trainIters(encoder1, attn_decoder1, 75000, print_every=5000)\n",
    "# trainIters(encoder1, attn_decoder1, 1000, print_every=100, learning_rate=learning_rate)\n",
    "trainIters(encoder1, attn_decoder1, 75000, print_every=5000, learning_rate=learning_rate)\n",
    "log.End()\n",
    "\n",
    "# 结束整个过程,提交实验结果\n",
    "log.Submit()"
   ],
   "outputs": [],
   "execution_count": null
  },
  {
   "cell_type": "code",
   "metadata": {
    "scrolled": true,
    "ExecuteTime": {
     "end_time": "2024-11-03T15:39:19.461575500Z",
     "start_time": "2024-11-03T08:31:02.298934Z"
    }
   },
   "source": [
    "encoder1 = EncoderRNN(input_lang.n_words, hidden_size).to(device)\n",
    "evaluateRandomly(encoder1, attn_decoder1)"
   ],
   "outputs": [
    {
     "name": "stdout",
     "output_type": "stream",
     "text": [
      "> 他 忙 于 写 故 事 \n",
      "= he is very busy writing stories\n",
      "< invited invited invited invited absent invited sapporo selling selling bit\n",
      "\n",
      "> 她 正 在 給 嬰 兒 洗 澡 \n",
      "= she is giving the baby a bath\n",
      "< aren't quite draft staying draft quite draft draft staying quite\n",
      "\n",
      "> 我 怀 疑 他 是 否 会 来 \n",
      "= i am doubtful whether he will come\n",
      "< telling aren't need counting bit anywhere bit quite draft draft\n",
      "\n",
      "> 我 厌 倦 了 我 的 工 作 \n",
      "= i am tired of my work\n",
      "< need come bit quite draft draft own country brave mere\n",
      "\n",
      "> 我 是 大 学 教 授 \n",
      "= i am a professor\n",
      "< need come quite draft draft quite draft own own own\n",
      "\n",
      "> 我 生 性 樂 觀 \n",
      "= i am an optimist by nature\n",
      "< invited invited invited invited invited sapporo selling selling selling selling\n",
      "\n",
      "> 他 在 演 奏 音 樂 \n",
      "= he is playing music\n",
      "< telling need aren't late brothers me time watching watching watching\n",
      "\n",
      "> 我 个 子 高 \n",
      "= i am tall\n",
      "< need come invited invited invited invited invited invited invited invited\n",
      "\n",
      "> 他 不 是 來 自 北 海 道 \n",
      "= he is not from hokkaido\n",
      "< need come quite rarely rarely rarely rarely rarely rarely rarely\n",
      "\n",
      "> 我 此 刻 正 忙 著 做 飯 \n",
      "= i am busy cooking at the moment\n",
      "< need come invited invited invited invited invited sapporo criticism bit\n",
      "\n",
      "> 我 相 信 他 是 無 辜 的 \n",
      "= i am convinced that he is innocent\n",
      "< telling invited invited invited invited invited absent rarely rarely rarely\n",
      "\n",
      "> 他 還 坐 在 長 椅 上 \n",
      "= he is still sitting on the bench\n",
      "< adult guitar absent absent sapporo selling bit quite bit staying\n",
      "\n",
      "> 我 的 右 眼 瞎 了 \n",
      "= i am blind in the right eye\n",
      "< invited invited invited invited invited absent invited invited sapporo criticism\n",
      "\n",
      "> 我 不 害 怕 任 何 東 西 \n",
      "= i am not frightened of anything\n",
      "< invited invited invited invited invited invited invited invited invited sapporo\n",
      "\n",
      "> 她 很 可 爱 \n",
      "= she is very pretty\n",
      "< need come counting bit quite draft quite draft draft own\n",
      "\n",
      "> 我 是 札 幌 的 市 民 \n",
      "= i am a citizen of sapporo\n",
      "< invited invited invited invited invited invited invited sapporo criticism bit\n",
      "\n",
      "> 他 可 能 很 快 就 到 了 \n",
      "= he is likely to arrive soon\n",
      "< invited invited invited invited invited absent invited sapporo selling selling\n",
      "\n",
      "> 他 忙 于 写 故 事 \n",
      "= he is very busy writing stories\n",
      "< invited invited invited invited invited invited invited invited sapporo selling\n",
      "\n",
      "> 我 四 點 要 離 開 \n",
      "= i am leaving at four\n",
      "< telling telling world aren't draft draft draft draft staying draft\n",
      "\n",
      "> 他 们 不 怕 死 \n",
      "= they aren't afraid of death\n",
      "< need need come it bit quite draft draft draft own\n",
      "\n",
      "> 我 们 待 在 舅 舅 家 \n",
      "= we are staying at our uncle's\n",
      "< invited invited invited invited invited invited invited invited absent sapporo\n",
      "\n",
      "> 我 在 考 慮 出 國 \n",
      "= i am thinking of going abroad\n",
      "< need come bit quite draft quite draft own own absent\n",
      "\n",
      "> 她 跟 你 一 樣 高 \n",
      "= she is as tall as you\n",
      "< telling need come draft draft draft quite draft draft staying\n",
      "\n",
      "> 他 充 满 活 力 \n",
      "= he is full of energy\n",
      "< aren't invited invited invited sitting criticism bit staying bit quite\n",
      "\n",
      "> 她 是 医 生 \n",
      "= she is a doctor\n",
      "< invited invited invited invited invited invited sapporo criticism bit staying\n",
      "\n",
      "> 她 是 个 倔 强 的 女 孩 \n",
      "= she is an obstinate girl\n",
      "< driver pretty pretty budget own innocent sitting bit quite draft\n",
      "\n",
      "> 他 不 是 傻 子 \n",
      "= he is not stupid\n",
      "< need need come bit quite draft draft staying own own\n",
      "\n",
      "> 我 怕 死 \n",
      "= i am afraid of death\n",
      "< need come rarely abroad right bit draft staying draft draft\n",
      "\n",
      "> 他 總 是 忘 記 事 情 \n",
      "= he is always forgetting things\n",
      "< need need come bit draft staying own own innocent sitting\n",
      "\n",
      "> 你 是 我 最 好 的 朋 友 \n",
      "= you are my best friend\n",
      "< telling invited invited sitting rarely criticism bit quite draft quite\n",
      "\n",
      "> 她 下 週 要 去 法 國 \n",
      "= she is going to france next week\n",
      "< telling need come bit draft quite draft quite draft draft\n",
      "\n",
      "> 他 们 在 吃 午 饭 \n",
      "= they are at lunch\n",
      "< sleeping driver enough tv tv brave mere your bit staying\n",
      "\n",
      "> 他 全 速 驾 驶 着 \n",
      "= he is driving at top speed\n",
      "< need need come quite rarely rarely rarely rarely rarely abroad\n",
      "\n",
      "> 她 中 文 有 进 步 \n",
      "= she is progressing in chinese\n",
      "< need come rarely rarely rarely rarely rarely rarely rarely rarely\n",
      "\n",
      "> 他 是 美 国 人 \n",
      "= he is american\n",
      "< telling aren't speaker writing counting own time time with boy\n",
      "\n",
      "> 他 在 演 奏 音 樂 \n",
      "= he is playing music\n",
      "< aren't adult mount late right debt need need bit quite\n",
      "\n",
      "> 我 怕 死 \n",
      "= i am afraid of dying\n",
      "< need come right world bit quite draft draft quite sitting\n",
      "\n",
      "> 他 们 不 怕 死 \n",
      "= they aren't afraid of death\n",
      "< need come abroad draft draft draft draft nothing nothing quite\n",
      "\n",
      "> 你 不 是 个 懦 夫 \n",
      "= you are not a coward\n",
      "< need come right need bit quite draft quite rarely rarely\n",
      "\n",
      "> 我 沒 在 寫 信 \n",
      "= i am not writing a letter\n",
      "< telling abroad aren't right bit staying bit quite draft own\n",
      "\n",
      "> 她 现 在 正 在 吃 午 餐 \n",
      "= she is having lunch now\n"
     ]
    },
    {
     "name": "stderr",
     "output_type": "stream",
     "text": [
      "C:\\Users\\Lenovo\\.conda\\envs\\lab4\\lib\\site-packages\\nltk\\translate\\bleu_score.py:577: UserWarning: \n",
      "The hypothesis contains 0 counts of 2-gram overlaps.\n",
      "Therefore the BLEU score evaluates to 0, independently of\n",
      "how many N-gram overlaps of lower order it contains.\n",
      "Consider using lower n-gram order or use SmoothingFunction()\n",
      "  warnings.warn(_msg)\n",
      "C:\\Users\\Lenovo\\.conda\\envs\\lab4\\lib\\site-packages\\nltk\\translate\\bleu_score.py:577: UserWarning: \n",
      "The hypothesis contains 0 counts of 3-gram overlaps.\n",
      "Therefore the BLEU score evaluates to 0, independently of\n",
      "how many N-gram overlaps of lower order it contains.\n",
      "Consider using lower n-gram order or use SmoothingFunction()\n",
      "  warnings.warn(_msg)\n",
      "C:\\Users\\Lenovo\\.conda\\envs\\lab4\\lib\\site-packages\\nltk\\translate\\bleu_score.py:577: UserWarning: \n",
      "The hypothesis contains 0 counts of 4-gram overlaps.\n",
      "Therefore the BLEU score evaluates to 0, independently of\n",
      "how many N-gram overlaps of lower order it contains.\n",
      "Consider using lower n-gram order or use SmoothingFunction()\n",
      "  warnings.warn(_msg)\n"
     ]
    },
    {
     "name": "stdout",
     "output_type": "stream",
     "text": [
      "< telling invited absent invited invited sapporo bit bit quite lie\n",
      "\n",
      "> 他 决 心 去 英 国 \n",
      "= he is determined to go to england\n",
      "< telling invited invited invited invited invited invited invited invited sapporo\n",
      "\n",
      "> 他 可 能 很 快 就 到 了 \n",
      "= he is likely to arrive soon\n",
      "< invited invited invited invited invited absent invited sapporo selling selling\n",
      "\n",
      "> 我 在 澆 花 \n",
      "= i am watering the flowers\n",
      "< invited invited invited invited invited invited invited sapporo invited sapporo\n",
      "\n",
      "> 他 習 慣 於 作 演 說 \n",
      "= he is used to making speeches\n",
      "< need come counting bit quite sitting bit staying draft draft\n",
      "\n",
      "> 我 不 擅 長 畫 畫 \n",
      "= i am poor at drawing\n",
      "< need come abroad right responsible world bit quite draft draft\n",
      "\n",
      "> 他 不 可 能 成 功 \n",
      "= he is not likely to succeed\n",
      "< need come invited invited invited invited invited invited invited invited\n",
      "\n",
      "> 他 是 我 的 一 個 鄰 居 \n",
      "= he is one of my neighbors\n",
      "< invited invited invited invited invited absent invited sapporo selling selling\n",
      "\n",
      "> 他 這 個 人 很 難 相 處 \n",
      "= he is hard to get along with\n",
      "< telling invited invited invited invited invited invited invited sapporo selling\n",
      "\n",
      "> 她 錢 不 夠 \n",
      "= she is hard up for money\n",
      "< telling need need come it bit quite draft draft staying\n",
      "\n",
      "> 我 现 在 3 0 岁 了 \n",
      "= i am 30 years old now\n",
      "< invited invited invited invited absent invited invited invited invited sapporo\n",
      "\n",
      "> 他 是 我 的 一 個 鄰 居 \n",
      "= he is one of my neighbors\n",
      "< invited invited invited invited invited absent invited invited invited sapporo\n",
      "\n",
      "> 他 很 容 易 遲 到 \n",
      "= he is apt to be late\n",
      "< invited invited invited invited invited invited sapporo selling selling bit\n",
      "\n",
      "> 你 无 权 进 入 那 里 \n",
      "= you are not authorized to enter there\n",
      "< telling invited invited invited invited sitting criticism bit selling bit\n",
      "\n",
      "> 她 將 生 孩 子 \n",
      "= she is going to have a baby\n",
      "< invited invited invited invited invited invited sapporo criticism bit quite\n",
      "\n",
      "> 他 非 常 怕 他 的 母 親 \n",
      "= he is very afraid of his mother\n",
      "< invited invited invited invited invited absent invited invited sapporo selling\n",
      "\n",
      "> 你 现 在 是 大 人 了 \n",
      "= you are now an adult\n",
      "< invited invited invited invited invited invited invited sapporo criticism bit\n",
      "\n",
      "> 他 擅 長 駕 駛 \n",
      "= he is good at driving\n",
      "< need come counting bit quite draft draft quite draft staying\n",
      "\n",
      "> 她 只 是 個 孩 子 \n",
      "= she is a mere child\n",
      "< need come right invited invited invited sapporo criticism bit bit\n",
      "\n",
      "> 他 们 在 谈 音 乐 \n",
      "= they are talking about music\n",
      "< telling this aren't invited invited sapporo selling selling bit selling\n",
      "\n",
      "> 他 擅 長 騎 馬 \n",
      "= he is good at riding a horse\n",
      "< complaining need it bit quite draft quite draft quite draft\n",
      "\n",
      "> 他 很 懒 \n",
      "= he is lazy\n",
      "< need come quite draft draft staying draft staying own time\n",
      "\n",
      "> 我 在 吃 米 饭 \n",
      "= i am eating rice\n",
      "< need come counting time this own own innocent rarely rarely\n",
      "\n",
      "> 她 嫁 給 了 美 國 人 \n",
      "= she is married to an american\n",
      "< telling aren't right need need come bit quite draft staying\n",
      "\n",
      "> 我 是 个 男 人 \n",
      "= i am a man\n",
      "< need come abroad right bit tv tv own own absent\n",
      "\n",
      "> 我 厭 倦 了 功 課 \n",
      "= i am tired of homework\n",
      "< need come bit tv brave mere difficulties difficulties through own\n",
      "\n",
      "> 我 很 难 过 \n",
      "= i am very sad\n",
      "< invited invited invited invited invited invited invited invited invited sapporo\n",
      "\n",
      "> 我 一 點 也 不 擔 心 \n",
      "= i am not the least bit worried\n",
      "< need come world abroad right bit staying bit quite draft\n",
      "\n",
      "> 我 一 切 都 很 好 \n",
      "= i am quite all right now\n",
      "< need come quite sad bit quite criticism bit bit quite\n",
      "\n",
      "> 他 是 我 部 門 的 主 管 \n",
      "= he is the chief of my department\n",
      "< need need come rarely rarely rarely rarely rarely rarely rarely\n",
      "\n",
      "> 他 不 是 很 擅 長 數 學 \n",
      "= he is not very good at mathematics\n",
      "< telling absent invited invited invited invited sapporo selling selling bit\n",
      "\n",
      "> 我 离 婚 了 \n",
      "= i am divorced\n",
      "< invited invited invited invited invited invited invited invited invited sapporo\n",
      "\n",
      "> 他 不 勝 任 這 份 工 作 \n",
      "= he is not qualified for the job\n",
      "< need come right invited invited invited invited sapporo selling selling\n",
      "\n",
      "> 她 現 在 不 在 家 \n",
      "= she isn't at home now\n",
      "< need aren't right animals need need come rarely rarely rarely\n",
      "\n",
      "> 她 精 通 法 語 \n",
      "= she is proficient in french\n",
      "< telling need need come bit quite draft draft quite draft\n",
      "\n",
      "> 我 來 了 \n",
      "= i am coming\n",
      "< invited invited invited invited invited invited invited invited sapporo criticism\n",
      "\n",
      "> 他 一 天 一 天 地 好 轉 \n",
      "= he is getting better day by day\n",
      "< invited invited absent invited sapporo bit staying bit quite sitting\n",
      "\n",
      "> 他 們 正 在 拆 這 面 牆 \n",
      "= they are breaking down the wall\n",
      "< need come invited invited invited invited invited sapporo criticism bit\n",
      "\n",
      "> 她 只 是 個 孩 子 \n",
      "= she is just a child\n",
      "< invited invited invited invited invited invited sapporo criticism bit bit\n",
      "\n",
      "> 我 在 家 裡 \n",
      "= i am in the house\n",
      "< telling invited invited invited invited invited invited invited sapporo watching\n",
      "\n",
      "> 她 只 是 個 孩 子 \n",
      "= she is nothing but a child\n",
      "< need come invited invited invited invited sapporo bit quite draft\n",
      "\n",
      "> 他 们 不 怕 死 \n",
      "= they aren't afraid of death\n",
      "< need come right need bit draft draft quite draft draft\n",
      "\n",
      "> 他 有 点 像 他 的 父 亲 \n",
      "= he is a bit like his father\n",
      "< telling saying aren't quite sitting rarely rarely rarely rarely rarely\n",
      "\n",
      "> 我 家 有 5 口 人 \n",
      "= we are a family of five\n",
      "< need come invited invited invited invited invited sapporo criticism bit\n",
      "\n",
      "> 谢 谢 您 的 好 意 \n",
      "= i am grateful to you for your kindness\n",
      "< need need come right invited invited invited sapporo selling selling\n",
      "\n",
      "> 他 不 是 美 国 人 \n",
      "= he is not an american\n",
      "< adult guitar absent invited invited invited invited sapporo criticism bit\n",
      "\n",
      "> 我 今 天 休 息 \n",
      "= i am off today\n",
      "< aren't invited invited invited invited sitting criticism bit staying draft\n",
      "\n",
      "> 你 是 教 授 \n",
      "= you are a professor\n",
      "< need need come bit quite draft draft staying quite draft\n",
      "\n",
      "> 他 现 在 卧 床 不 起 \n",
      "= he is confined to bed now\n",
      "< need need come bit quite draft draft staying staying bit\n",
      "\n",
      "> 他 和 他 的 員 工 相 處 \n",
      "= he is getting along with his employees\n",
      "< telling invited invited absent invited absent sapporo selling selling bit\n",
      "\n",
      "> 我 学 两 种 外 语 \n",
      "= i am learning two foreign languages\n",
      "< invited invited invited invited absent invited invited invited sapporo selling\n",
      "\n",
      "> 你 是 教 授 \n",
      "= you are a professor\n",
      "< need need bit quite criticism bit own innocent own own\n",
      "\n",
      "> 我 不 害 怕 任 何 東 西 \n",
      "= i am not frightened of anything\n",
      "< invited invited invited invited invited absent invited invited invited invited\n",
      "\n",
      "> 你 可 以 走 了 \n",
      "= you are free to go\n",
      "< need come invited invited invited invited invited invited sapporo bit\n",
      "\n",
      "> 我 是 匈 牙 利 人 \n",
      "= i am hungarian\n",
      "< need come world right invited invited invited invited sitting criticism\n",
      "\n",
      "> 她 现 在 正 在 工 作 \n",
      "= she is at work right now\n",
      "< need come right bit invited invited absent invited sapporo selling\n",
      "\n",
      "> 我 是 个 新 生 \n",
      "= i am a new student\n",
      "< invited invited invited invited invited sapporo invited invited invited absent\n",
      "\n",
      "> 她 今 年 秋 天 要 結 婚 \n",
      "= she is getting married this fall\n",
      "< telling time with need bit brothers staying bit draft staying\n",
      "\n",
      "> 他 现 在 住 在 国 外 \n",
      "= he is living abroad at the moment\n",
      "< invited invited invited invited invited invited invited invited invited invited\n",
      "\n",
      "> 你 很 好 \n",
      "= you are good\n",
      "< need come invited invited invited sapporo selling selling selling selling\n",
      "\n",
      "The bleu_score is  4.097965660875581e-233\n"
     ]
    }
   ],
   "execution_count": 111
  },
  {
   "cell_type": "code",
   "metadata": {
    "ExecuteTime": {
     "end_time": "2024-11-03T15:39:19.494513100Z",
     "start_time": "2024-11-03T08:34:04.964953Z"
    }
   },
   "source": [
    "import matplotlib.pyplot as plt\n",
    "\n",
    "# 设置字体和解决负号显示问题\n",
    "plt.rcParams['font.sans-serif'] = ['KaiTi']  # 指定默认字体为楷体\n",
    "plt.rcParams['axes.unicode_minus'] = False  # 解决保存图像时负号'-'显示为方块的问题\n",
    "\n",
    "plt.rcParams['font.sans-serif'] = ['KaiTi'] # 指定默认字体\n",
    "plt.rcParams['axes.unicode_minus'] = False # 解决保存图像是负号'-'显示为方块的问题"
   ],
   "outputs": [
    {
     "ename": "ImportError",
     "evalue": "cannot import name 'broadcast_to' from 'numpy.lib.stride_tricks' (C:\\Users\\Lenovo\\.conda\\envs\\lab4\\lib\\site-packages\\numpy\\lib\\stride_tricks.py)",
     "output_type": "error",
     "traceback": [
      "\u001B[1;31m---------------------------------------------------------------------------\u001B[0m",
      "\u001B[1;31mImportError\u001B[0m                               Traceback (most recent call last)",
      "Cell \u001B[1;32mIn[114], line 1\u001B[0m\n\u001B[1;32m----> 1\u001B[0m \u001B[38;5;28;01mimport\u001B[39;00m \u001B[38;5;21;01mmatplotlib\u001B[39;00m\u001B[38;5;21;01m.\u001B[39;00m\u001B[38;5;21;01mpyplot\u001B[39;00m \u001B[38;5;28;01mas\u001B[39;00m \u001B[38;5;21;01mplt\u001B[39;00m\n\u001B[0;32m      3\u001B[0m \u001B[38;5;66;03m# 设置字体和解决负号显示问题\u001B[39;00m\n\u001B[0;32m      4\u001B[0m plt\u001B[38;5;241m.\u001B[39mrcParams[\u001B[38;5;124m'\u001B[39m\u001B[38;5;124mfont.sans-serif\u001B[39m\u001B[38;5;124m'\u001B[39m] \u001B[38;5;241m=\u001B[39m [\u001B[38;5;124m'\u001B[39m\u001B[38;5;124mKaiTi\u001B[39m\u001B[38;5;124m'\u001B[39m]  \u001B[38;5;66;03m# 指定默认字体为楷体\u001B[39;00m\n",
      "File \u001B[1;32m~\\.conda\\envs\\lab4\\lib\\site-packages\\matplotlib\\__init__.py:967\u001B[0m\n\u001B[0;32m    961\u001B[0m     \u001B[38;5;28;01mreturn\u001B[39;00m config\n\u001B[0;32m    964\u001B[0m \u001B[38;5;66;03m# When constructing the global instances, we need to perform certain updates\u001B[39;00m\n\u001B[0;32m    965\u001B[0m \u001B[38;5;66;03m# by explicitly calling the superclass (dict.update, dict.items) to avoid\u001B[39;00m\n\u001B[0;32m    966\u001B[0m \u001B[38;5;66;03m# triggering resolution of _auto_backend_sentinel.\u001B[39;00m\n\u001B[1;32m--> 967\u001B[0m rcParamsDefault \u001B[38;5;241m=\u001B[39m \u001B[43m_rc_params_in_file\u001B[49m\u001B[43m(\u001B[49m\n\u001B[0;32m    968\u001B[0m \u001B[43m    \u001B[49m\u001B[43mcbook\u001B[49m\u001B[38;5;241;43m.\u001B[39;49m\u001B[43m_get_data_path\u001B[49m\u001B[43m(\u001B[49m\u001B[38;5;124;43m\"\u001B[39;49m\u001B[38;5;124;43mmatplotlibrc\u001B[39;49m\u001B[38;5;124;43m\"\u001B[39;49m\u001B[43m)\u001B[49m\u001B[43m,\u001B[49m\n\u001B[0;32m    969\u001B[0m \u001B[43m    \u001B[49m\u001B[38;5;66;43;03m# Strip leading comment.\u001B[39;49;00m\n\u001B[0;32m    970\u001B[0m \u001B[43m    \u001B[49m\u001B[43mtransform\u001B[49m\u001B[38;5;241;43m=\u001B[39;49m\u001B[38;5;28;43;01mlambda\u001B[39;49;00m\u001B[43m \u001B[49m\u001B[43mline\u001B[49m\u001B[43m:\u001B[49m\u001B[43m \u001B[49m\u001B[43mline\u001B[49m\u001B[43m[\u001B[49m\u001B[38;5;241;43m1\u001B[39;49m\u001B[43m:\u001B[49m\u001B[43m]\u001B[49m\u001B[43m \u001B[49m\u001B[38;5;28;43;01mif\u001B[39;49;00m\u001B[43m \u001B[49m\u001B[43mline\u001B[49m\u001B[38;5;241;43m.\u001B[39;49m\u001B[43mstartswith\u001B[49m\u001B[43m(\u001B[49m\u001B[38;5;124;43m\"\u001B[39;49m\u001B[38;5;124;43m#\u001B[39;49m\u001B[38;5;124;43m\"\u001B[39;49m\u001B[43m)\u001B[49m\u001B[43m \u001B[49m\u001B[38;5;28;43;01melse\u001B[39;49;00m\u001B[43m \u001B[49m\u001B[43mline\u001B[49m\u001B[43m,\u001B[49m\n\u001B[0;32m    971\u001B[0m \u001B[43m    \u001B[49m\u001B[43mfail_on_error\u001B[49m\u001B[38;5;241;43m=\u001B[39;49m\u001B[38;5;28;43;01mTrue\u001B[39;49;00m\u001B[43m)\u001B[49m\n\u001B[0;32m    972\u001B[0m \u001B[38;5;28mdict\u001B[39m\u001B[38;5;241m.\u001B[39mupdate(rcParamsDefault, rcsetup\u001B[38;5;241m.\u001B[39m_hardcoded_defaults)\n\u001B[0;32m    973\u001B[0m \u001B[38;5;66;03m# Normally, the default matplotlibrc file contains *no* entry for backend (the\u001B[39;00m\n\u001B[0;32m    974\u001B[0m \u001B[38;5;66;03m# corresponding line starts with ##, not #; we fill on _auto_backend_sentinel\u001B[39;00m\n\u001B[0;32m    975\u001B[0m \u001B[38;5;66;03m# in that case.  However, packagers can set a different default backend\u001B[39;00m\n\u001B[0;32m    976\u001B[0m \u001B[38;5;66;03m# (resulting in a normal `#backend: foo` line) in which case we should *not*\u001B[39;00m\n\u001B[0;32m    977\u001B[0m \u001B[38;5;66;03m# fill in _auto_backend_sentinel.\u001B[39;00m\n",
      "File \u001B[1;32m~\\.conda\\envs\\lab4\\lib\\site-packages\\matplotlib\\__init__.py:901\u001B[0m, in \u001B[0;36m_rc_params_in_file\u001B[1;34m(fname, transform, fail_on_error)\u001B[0m\n\u001B[0;32m    899\u001B[0m \u001B[38;5;28;01mif\u001B[39;00m key \u001B[38;5;129;01min\u001B[39;00m rcsetup\u001B[38;5;241m.\u001B[39m_validators:\n\u001B[0;32m    900\u001B[0m     \u001B[38;5;28;01mif\u001B[39;00m fail_on_error:\n\u001B[1;32m--> 901\u001B[0m         \u001B[43mconfig\u001B[49m\u001B[43m[\u001B[49m\u001B[43mkey\u001B[49m\u001B[43m]\u001B[49m \u001B[38;5;241m=\u001B[39m val  \u001B[38;5;66;03m# try to convert to proper type or raise\u001B[39;00m\n\u001B[0;32m    902\u001B[0m     \u001B[38;5;28;01melse\u001B[39;00m:\n\u001B[0;32m    903\u001B[0m         \u001B[38;5;28;01mtry\u001B[39;00m:\n",
      "File \u001B[1;32m~\\.conda\\envs\\lab4\\lib\\site-packages\\matplotlib\\__init__.py:736\u001B[0m, in \u001B[0;36mRcParams.__setitem__\u001B[1;34m(self, key, val)\u001B[0m\n\u001B[0;32m    734\u001B[0m             \u001B[38;5;28;01mreturn\u001B[39;00m\n\u001B[0;32m    735\u001B[0m \u001B[38;5;28;01mtry\u001B[39;00m:\n\u001B[1;32m--> 736\u001B[0m     cval \u001B[38;5;241m=\u001B[39m \u001B[38;5;28;43mself\u001B[39;49m\u001B[38;5;241;43m.\u001B[39;49m\u001B[43mvalidate\u001B[49m\u001B[43m[\u001B[49m\u001B[43mkey\u001B[49m\u001B[43m]\u001B[49m\u001B[43m(\u001B[49m\u001B[43mval\u001B[49m\u001B[43m)\u001B[49m\n\u001B[0;32m    737\u001B[0m \u001B[38;5;28;01mexcept\u001B[39;00m \u001B[38;5;167;01mValueError\u001B[39;00m \u001B[38;5;28;01mas\u001B[39;00m ve:\n\u001B[0;32m    738\u001B[0m     \u001B[38;5;28;01mraise\u001B[39;00m \u001B[38;5;167;01mValueError\u001B[39;00m(\u001B[38;5;124mf\u001B[39m\u001B[38;5;124m\"\u001B[39m\u001B[38;5;124mKey \u001B[39m\u001B[38;5;132;01m{\u001B[39;00mkey\u001B[38;5;132;01m}\u001B[39;00m\u001B[38;5;124m: \u001B[39m\u001B[38;5;132;01m{\u001B[39;00mve\u001B[38;5;132;01m}\u001B[39;00m\u001B[38;5;124m\"\u001B[39m) \u001B[38;5;28;01mfrom\u001B[39;00m \u001B[38;5;28;01mNone\u001B[39;00m\n",
      "File \u001B[1;32m~\\.conda\\envs\\lab4\\lib\\site-packages\\matplotlib\\rcsetup.py:342\u001B[0m, in \u001B[0;36mvalidate_color\u001B[1;34m(s)\u001B[0m\n\u001B[0;32m    339\u001B[0m         \u001B[38;5;28;01mif\u001B[39;00m is_color_like(stmp):\n\u001B[0;32m    340\u001B[0m             \u001B[38;5;28;01mreturn\u001B[39;00m stmp\n\u001B[1;32m--> 342\u001B[0m \u001B[38;5;28;01mif\u001B[39;00m \u001B[43mis_color_like\u001B[49m\u001B[43m(\u001B[49m\u001B[43ms\u001B[49m\u001B[43m)\u001B[49m:\n\u001B[0;32m    343\u001B[0m     \u001B[38;5;28;01mreturn\u001B[39;00m s\n\u001B[0;32m    345\u001B[0m \u001B[38;5;66;03m# If it is still valid, it must be a tuple (as a string from matplotlibrc).\u001B[39;00m\n",
      "File \u001B[1;32m~\\.conda\\envs\\lab4\\lib\\site-packages\\matplotlib\\colors.py:227\u001B[0m, in \u001B[0;36mis_color_like\u001B[1;34m(c)\u001B[0m\n\u001B[0;32m    225\u001B[0m     \u001B[38;5;28;01mreturn\u001B[39;00m \u001B[38;5;28;01mTrue\u001B[39;00m\n\u001B[0;32m    226\u001B[0m \u001B[38;5;28;01mtry\u001B[39;00m:\n\u001B[1;32m--> 227\u001B[0m     \u001B[43mto_rgba\u001B[49m\u001B[43m(\u001B[49m\u001B[43mc\u001B[49m\u001B[43m)\u001B[49m\n\u001B[0;32m    228\u001B[0m \u001B[38;5;28;01mexcept\u001B[39;00m (\u001B[38;5;167;01mTypeError\u001B[39;00m, \u001B[38;5;167;01mValueError\u001B[39;00m):\n\u001B[0;32m    229\u001B[0m     \u001B[38;5;28;01mreturn\u001B[39;00m \u001B[38;5;28;01mFalse\u001B[39;00m\n",
      "File \u001B[1;32m~\\.conda\\envs\\lab4\\lib\\site-packages\\matplotlib\\colors.py:314\u001B[0m, in \u001B[0;36mto_rgba\u001B[1;34m(c, alpha)\u001B[0m\n\u001B[0;32m    312\u001B[0m     rgba \u001B[38;5;241m=\u001B[39m \u001B[38;5;28;01mNone\u001B[39;00m\n\u001B[0;32m    313\u001B[0m \u001B[38;5;28;01mif\u001B[39;00m rgba \u001B[38;5;129;01mis\u001B[39;00m \u001B[38;5;28;01mNone\u001B[39;00m:  \u001B[38;5;66;03m# Suppress exception chaining of cache lookup failure.\u001B[39;00m\n\u001B[1;32m--> 314\u001B[0m     rgba \u001B[38;5;241m=\u001B[39m \u001B[43m_to_rgba_no_colorcycle\u001B[49m\u001B[43m(\u001B[49m\u001B[43mc\u001B[49m\u001B[43m,\u001B[49m\u001B[43m \u001B[49m\u001B[43malpha\u001B[49m\u001B[43m)\u001B[49m\n\u001B[0;32m    315\u001B[0m     \u001B[38;5;28;01mtry\u001B[39;00m:\n\u001B[0;32m    316\u001B[0m         _colors_full_map\u001B[38;5;241m.\u001B[39mcache[c, alpha] \u001B[38;5;241m=\u001B[39m rgba\n",
      "File \u001B[1;32m~\\.conda\\envs\\lab4\\lib\\site-packages\\matplotlib\\colors.py:336\u001B[0m, in \u001B[0;36m_to_rgba_no_colorcycle\u001B[1;34m(c, alpha)\u001B[0m\n\u001B[0;32m    334\u001B[0m     \u001B[38;5;28;01mraise\u001B[39;00m \u001B[38;5;167;01mValueError\u001B[39;00m(\u001B[38;5;124m\"\u001B[39m\u001B[38;5;124m'\u001B[39m\u001B[38;5;124malpha\u001B[39m\u001B[38;5;124m'\u001B[39m\u001B[38;5;124m must be between 0 and 1, inclusive\u001B[39m\u001B[38;5;124m\"\u001B[39m)\n\u001B[0;32m    335\u001B[0m orig_c \u001B[38;5;241m=\u001B[39m c\n\u001B[1;32m--> 336\u001B[0m \u001B[38;5;28;01mif\u001B[39;00m c \u001B[38;5;129;01mis\u001B[39;00m \u001B[43mnp\u001B[49m\u001B[38;5;241;43m.\u001B[39;49m\u001B[43mma\u001B[49m\u001B[38;5;241m.\u001B[39mmasked:\n\u001B[0;32m    337\u001B[0m     \u001B[38;5;28;01mreturn\u001B[39;00m (\u001B[38;5;241m0.\u001B[39m, \u001B[38;5;241m0.\u001B[39m, \u001B[38;5;241m0.\u001B[39m, \u001B[38;5;241m0.\u001B[39m)\n\u001B[0;32m    338\u001B[0m \u001B[38;5;28;01mif\u001B[39;00m \u001B[38;5;28misinstance\u001B[39m(c, \u001B[38;5;28mstr\u001B[39m):\n",
      "File \u001B[1;32m~\\.conda\\envs\\lab4\\lib\\site-packages\\numpy\\__init__.py:343\u001B[0m, in \u001B[0;36m__getattr__\u001B[1;34m(attr)\u001B[0m\n\u001B[0;32m    336\u001B[0m \u001B[38;5;28;01mdef\u001B[39;00m \u001B[38;5;21m__dir__\u001B[39m():\n\u001B[0;32m    337\u001B[0m     public_symbols \u001B[38;5;241m=\u001B[39m \u001B[38;5;28mglobals\u001B[39m()\u001B[38;5;241m.\u001B[39mkeys() \u001B[38;5;241m|\u001B[39m {\u001B[38;5;124m'\u001B[39m\u001B[38;5;124mtesting\u001B[39m\u001B[38;5;124m'\u001B[39m}\n\u001B[0;32m    338\u001B[0m     public_symbols \u001B[38;5;241m-\u001B[39m\u001B[38;5;241m=\u001B[39m {\n\u001B[0;32m    339\u001B[0m         \u001B[38;5;124m\"\u001B[39m\u001B[38;5;124mcore\u001B[39m\u001B[38;5;124m\"\u001B[39m, \u001B[38;5;124m\"\u001B[39m\u001B[38;5;124mmatrixlib\u001B[39m\u001B[38;5;124m\"\u001B[39m,\n\u001B[0;32m    340\u001B[0m         \u001B[38;5;66;03m# These were moved in 1.25 and may be deprecated eventually:\u001B[39;00m\n\u001B[0;32m    341\u001B[0m         \u001B[38;5;124m\"\u001B[39m\u001B[38;5;124mModuleDeprecationWarning\u001B[39m\u001B[38;5;124m\"\u001B[39m, \u001B[38;5;124m\"\u001B[39m\u001B[38;5;124mVisibleDeprecationWarning\u001B[39m\u001B[38;5;124m\"\u001B[39m,\n\u001B[0;32m    342\u001B[0m         \u001B[38;5;124m\"\u001B[39m\u001B[38;5;124mComplexWarning\u001B[39m\u001B[38;5;124m\"\u001B[39m, \u001B[38;5;124m\"\u001B[39m\u001B[38;5;124mTooHardError\u001B[39m\u001B[38;5;124m\"\u001B[39m, \u001B[38;5;124m\"\u001B[39m\u001B[38;5;124mAxisError\u001B[39m\u001B[38;5;124m\"\u001B[39m\n\u001B[1;32m--> 343\u001B[0m     }\n\u001B[0;32m    344\u001B[0m     \u001B[38;5;28;01mreturn\u001B[39;00m \u001B[38;5;28mlist\u001B[39m(public_symbols)\n",
      "File \u001B[1;32m~\\.conda\\envs\\lab4\\lib\\site-packages\\numpy\\ma\\__init__.py:42\u001B[0m\n\u001B[0;32m      1\u001B[0m \u001B[38;5;124;03m\"\"\"\u001B[39;00m\n\u001B[0;32m      2\u001B[0m \u001B[38;5;124;03m=============\u001B[39;00m\n\u001B[0;32m      3\u001B[0m \u001B[38;5;124;03mMasked Arrays\u001B[39;00m\n\u001B[1;32m   (...)\u001B[0m\n\u001B[0;32m     40\u001B[0m \n\u001B[0;32m     41\u001B[0m \u001B[38;5;124;03m\"\"\"\u001B[39;00m\n\u001B[1;32m---> 42\u001B[0m \u001B[38;5;28;01mfrom\u001B[39;00m \u001B[38;5;21;01m.\u001B[39;00m \u001B[38;5;28;01mimport\u001B[39;00m core\n\u001B[0;32m     43\u001B[0m \u001B[38;5;28;01mfrom\u001B[39;00m \u001B[38;5;21;01m.\u001B[39;00m\u001B[38;5;21;01mcore\u001B[39;00m \u001B[38;5;28;01mimport\u001B[39;00m \u001B[38;5;241m*\u001B[39m\n\u001B[0;32m     45\u001B[0m \u001B[38;5;28;01mfrom\u001B[39;00m \u001B[38;5;21;01m.\u001B[39;00m \u001B[38;5;28;01mimport\u001B[39;00m extras\n",
      "File \u001B[1;32m~\\.conda\\envs\\lab4\\lib\\site-packages\\numpy\\ma\\core.py:37\u001B[0m\n\u001B[0;32m     35\u001B[0m \u001B[38;5;28;01mfrom\u001B[39;00m \u001B[38;5;21;01mnumpy\u001B[39;00m \u001B[38;5;28;01mimport\u001B[39;00m ndarray, amax, amin, iscomplexobj, bool_, _NoValue\n\u001B[0;32m     36\u001B[0m \u001B[38;5;28;01mfrom\u001B[39;00m \u001B[38;5;21;01mnumpy\u001B[39;00m \u001B[38;5;28;01mimport\u001B[39;00m array \u001B[38;5;28;01mas\u001B[39;00m narray\n\u001B[1;32m---> 37\u001B[0m \u001B[38;5;28;01mfrom\u001B[39;00m \u001B[38;5;21;01mnumpy\u001B[39;00m\u001B[38;5;21;01m.\u001B[39;00m\u001B[38;5;21;01mlib\u001B[39;00m\u001B[38;5;21;01m.\u001B[39;00m\u001B[38;5;21;01mfunction_base\u001B[39;00m \u001B[38;5;28;01mimport\u001B[39;00m angle\n\u001B[0;32m     38\u001B[0m \u001B[38;5;28;01mfrom\u001B[39;00m \u001B[38;5;21;01mnumpy\u001B[39;00m\u001B[38;5;21;01m.\u001B[39;00m\u001B[38;5;21;01mcompat\u001B[39;00m \u001B[38;5;28;01mimport\u001B[39;00m (\n\u001B[0;32m     39\u001B[0m     getargspec, formatargspec, long, unicode, \u001B[38;5;28mbytes\u001B[39m\n\u001B[0;32m     40\u001B[0m     )\n\u001B[0;32m     41\u001B[0m \u001B[38;5;28;01mfrom\u001B[39;00m \u001B[38;5;21;01mnumpy\u001B[39;00m \u001B[38;5;28;01mimport\u001B[39;00m expand_dims\n",
      "File \u001B[1;32m~\\.conda\\envs\\lab4\\lib\\site-packages\\numpy\\lib\\function_base.py:25\u001B[0m\n\u001B[0;32m     23\u001B[0m \u001B[38;5;28;01mfrom\u001B[39;00m \u001B[38;5;21;01mnumpy\u001B[39;00m\u001B[38;5;21;01m.\u001B[39;00m\u001B[38;5;21;01mcore\u001B[39;00m \u001B[38;5;28;01mimport\u001B[39;00m overrides\n\u001B[0;32m     24\u001B[0m \u001B[38;5;28;01mfrom\u001B[39;00m \u001B[38;5;21;01mnumpy\u001B[39;00m\u001B[38;5;21;01m.\u001B[39;00m\u001B[38;5;21;01mcore\u001B[39;00m\u001B[38;5;21;01m.\u001B[39;00m\u001B[38;5;21;01mfunction_base\u001B[39;00m \u001B[38;5;28;01mimport\u001B[39;00m add_newdoc\n\u001B[1;32m---> 25\u001B[0m \u001B[38;5;28;01mfrom\u001B[39;00m \u001B[38;5;21;01mnumpy\u001B[39;00m\u001B[38;5;21;01m.\u001B[39;00m\u001B[38;5;21;01mlib\u001B[39;00m\u001B[38;5;21;01m.\u001B[39;00m\u001B[38;5;21;01mtwodim_base\u001B[39;00m \u001B[38;5;28;01mimport\u001B[39;00m diag\n\u001B[0;32m     26\u001B[0m \u001B[38;5;28;01mfrom\u001B[39;00m \u001B[38;5;21;01mnumpy\u001B[39;00m\u001B[38;5;21;01m.\u001B[39;00m\u001B[38;5;21;01mcore\u001B[39;00m\u001B[38;5;21;01m.\u001B[39;00m\u001B[38;5;21;01mmultiarray\u001B[39;00m \u001B[38;5;28;01mimport\u001B[39;00m (\n\u001B[0;32m     27\u001B[0m     _place, add_docstring, bincount, normalize_axis_index, _monotonicity,\n\u001B[0;32m     28\u001B[0m     interp \u001B[38;5;28;01mas\u001B[39;00m compiled_interp, interp_complex \u001B[38;5;28;01mas\u001B[39;00m compiled_interp_complex\n\u001B[0;32m     29\u001B[0m     )\n\u001B[0;32m     30\u001B[0m \u001B[38;5;28;01mfrom\u001B[39;00m \u001B[38;5;21;01mnumpy\u001B[39;00m\u001B[38;5;21;01m.\u001B[39;00m\u001B[38;5;21;01mcore\u001B[39;00m\u001B[38;5;21;01m.\u001B[39;00m\u001B[38;5;21;01mumath\u001B[39;00m \u001B[38;5;28;01mimport\u001B[39;00m _add_newdoc_ufunc \u001B[38;5;28;01mas\u001B[39;00m add_newdoc_ufunc\n",
      "File \u001B[1;32m~\\.conda\\envs\\lab4\\lib\\site-packages\\numpy\\lib\\twodim_base.py:15\u001B[0m\n\u001B[0;32m     13\u001B[0m \u001B[38;5;28;01mfrom\u001B[39;00m \u001B[38;5;21;01mnumpy\u001B[39;00m\u001B[38;5;21;01m.\u001B[39;00m\u001B[38;5;21;01mcore\u001B[39;00m \u001B[38;5;28;01mimport\u001B[39;00m overrides\n\u001B[0;32m     14\u001B[0m \u001B[38;5;28;01mfrom\u001B[39;00m \u001B[38;5;21;01mnumpy\u001B[39;00m\u001B[38;5;21;01m.\u001B[39;00m\u001B[38;5;21;01mcore\u001B[39;00m \u001B[38;5;28;01mimport\u001B[39;00m iinfo\n\u001B[1;32m---> 15\u001B[0m \u001B[38;5;28;01mfrom\u001B[39;00m \u001B[38;5;21;01mnumpy\u001B[39;00m\u001B[38;5;21;01m.\u001B[39;00m\u001B[38;5;21;01mlib\u001B[39;00m\u001B[38;5;21;01m.\u001B[39;00m\u001B[38;5;21;01mstride_tricks\u001B[39;00m \u001B[38;5;28;01mimport\u001B[39;00m broadcast_to\n\u001B[0;32m     18\u001B[0m __all__ \u001B[38;5;241m=\u001B[39m [\n\u001B[0;32m     19\u001B[0m     \u001B[38;5;124m'\u001B[39m\u001B[38;5;124mdiag\u001B[39m\u001B[38;5;124m'\u001B[39m, \u001B[38;5;124m'\u001B[39m\u001B[38;5;124mdiagflat\u001B[39m\u001B[38;5;124m'\u001B[39m, \u001B[38;5;124m'\u001B[39m\u001B[38;5;124meye\u001B[39m\u001B[38;5;124m'\u001B[39m, \u001B[38;5;124m'\u001B[39m\u001B[38;5;124mfliplr\u001B[39m\u001B[38;5;124m'\u001B[39m, \u001B[38;5;124m'\u001B[39m\u001B[38;5;124mflipud\u001B[39m\u001B[38;5;124m'\u001B[39m, \u001B[38;5;124m'\u001B[39m\u001B[38;5;124mtri\u001B[39m\u001B[38;5;124m'\u001B[39m, \u001B[38;5;124m'\u001B[39m\u001B[38;5;124mtriu\u001B[39m\u001B[38;5;124m'\u001B[39m,\n\u001B[0;32m     20\u001B[0m     \u001B[38;5;124m'\u001B[39m\u001B[38;5;124mtril\u001B[39m\u001B[38;5;124m'\u001B[39m, \u001B[38;5;124m'\u001B[39m\u001B[38;5;124mvander\u001B[39m\u001B[38;5;124m'\u001B[39m, \u001B[38;5;124m'\u001B[39m\u001B[38;5;124mhistogram2d\u001B[39m\u001B[38;5;124m'\u001B[39m, \u001B[38;5;124m'\u001B[39m\u001B[38;5;124mmask_indices\u001B[39m\u001B[38;5;124m'\u001B[39m, \u001B[38;5;124m'\u001B[39m\u001B[38;5;124mtril_indices\u001B[39m\u001B[38;5;124m'\u001B[39m,\n\u001B[0;32m     21\u001B[0m     \u001B[38;5;124m'\u001B[39m\u001B[38;5;124mtril_indices_from\u001B[39m\u001B[38;5;124m'\u001B[39m, \u001B[38;5;124m'\u001B[39m\u001B[38;5;124mtriu_indices\u001B[39m\u001B[38;5;124m'\u001B[39m, \u001B[38;5;124m'\u001B[39m\u001B[38;5;124mtriu_indices_from\u001B[39m\u001B[38;5;124m'\u001B[39m, ]\n\u001B[0;32m     24\u001B[0m array_function_dispatch \u001B[38;5;241m=\u001B[39m functools\u001B[38;5;241m.\u001B[39mpartial(\n\u001B[0;32m     25\u001B[0m     overrides\u001B[38;5;241m.\u001B[39marray_function_dispatch, module\u001B[38;5;241m=\u001B[39m\u001B[38;5;124m'\u001B[39m\u001B[38;5;124mnumpy\u001B[39m\u001B[38;5;124m'\u001B[39m)\n",
      "\u001B[1;31mImportError\u001B[0m: cannot import name 'broadcast_to' from 'numpy.lib.stride_tricks' (C:\\Users\\Lenovo\\.conda\\envs\\lab4\\lib\\site-packages\\numpy\\lib\\stride_tricks.py)"
     ]
    }
   ],
   "execution_count": 114
  },
  {
   "cell_type": "code",
   "metadata": {
    "ExecuteTime": {
     "end_time": "2024-11-03T15:39:19.494513100Z",
     "start_time": "2024-11-03T08:34:08.148746Z"
    }
   },
   "source": [
    "import matplotlib.pyplot as plt\n",
    "encoder1 = EncoderRNN(input_lang.n_words, hidden_size).to(device)\n",
    "output_words, attentions = evaluate(\n",
    "    encoder1, attn_decoder1, \"你 只 是 玩\")\n",
    "print(output_words)\n",
    "plt.rcParams['font.sans-serif'] = ['KaiTi']  # 指定默认字体为楷体\n",
    "plt.rcParams['axes.unicode_minus'] = False  # 解决保存图像时负号'-'显示为方块的问题\n",
    "\n",
    "plt.rcParams['font.sans-serif'] = ['KaiTi'] # 指定默认字体\n",
    "plt.rcParams['axes.unicode_minus'] = False\n",
    "plt.matshow(attentions.numpy())\n",
    "plt.show()"
   ],
   "outputs": [
    {
     "ename": "ImportError",
     "evalue": "cannot import name 'broadcast_to' from 'numpy.lib.stride_tricks' (C:\\Users\\Lenovo\\.conda\\envs\\lab4\\lib\\site-packages\\numpy\\lib\\stride_tricks.py)",
     "output_type": "error",
     "traceback": [
      "\u001B[1;31m---------------------------------------------------------------------------\u001B[0m",
      "\u001B[1;31mImportError\u001B[0m                               Traceback (most recent call last)",
      "Cell \u001B[1;32mIn[115], line 1\u001B[0m\n\u001B[1;32m----> 1\u001B[0m \u001B[38;5;28;01mimport\u001B[39;00m \u001B[38;5;21;01mmatplotlib\u001B[39;00m\u001B[38;5;21;01m.\u001B[39;00m\u001B[38;5;21;01mpyplot\u001B[39;00m \u001B[38;5;28;01mas\u001B[39;00m \u001B[38;5;21;01mplt\u001B[39;00m\n\u001B[0;32m      2\u001B[0m encoder1 \u001B[38;5;241m=\u001B[39m EncoderRNN(input_lang\u001B[38;5;241m.\u001B[39mn_words, hidden_size)\u001B[38;5;241m.\u001B[39mto(device)\n\u001B[0;32m      3\u001B[0m output_words, attentions \u001B[38;5;241m=\u001B[39m evaluate(\n\u001B[0;32m      4\u001B[0m     encoder1, attn_decoder1, \u001B[38;5;124m\"\u001B[39m\u001B[38;5;124m你 只 是 玩\u001B[39m\u001B[38;5;124m\"\u001B[39m)\n",
      "File \u001B[1;32m~\\.conda\\envs\\lab4\\lib\\site-packages\\matplotlib\\__init__.py:967\u001B[0m\n\u001B[0;32m    961\u001B[0m     \u001B[38;5;28;01mreturn\u001B[39;00m config\n\u001B[0;32m    964\u001B[0m \u001B[38;5;66;03m# When constructing the global instances, we need to perform certain updates\u001B[39;00m\n\u001B[0;32m    965\u001B[0m \u001B[38;5;66;03m# by explicitly calling the superclass (dict.update, dict.items) to avoid\u001B[39;00m\n\u001B[0;32m    966\u001B[0m \u001B[38;5;66;03m# triggering resolution of _auto_backend_sentinel.\u001B[39;00m\n\u001B[1;32m--> 967\u001B[0m rcParamsDefault \u001B[38;5;241m=\u001B[39m \u001B[43m_rc_params_in_file\u001B[49m\u001B[43m(\u001B[49m\n\u001B[0;32m    968\u001B[0m \u001B[43m    \u001B[49m\u001B[43mcbook\u001B[49m\u001B[38;5;241;43m.\u001B[39;49m\u001B[43m_get_data_path\u001B[49m\u001B[43m(\u001B[49m\u001B[38;5;124;43m\"\u001B[39;49m\u001B[38;5;124;43mmatplotlibrc\u001B[39;49m\u001B[38;5;124;43m\"\u001B[39;49m\u001B[43m)\u001B[49m\u001B[43m,\u001B[49m\n\u001B[0;32m    969\u001B[0m \u001B[43m    \u001B[49m\u001B[38;5;66;43;03m# Strip leading comment.\u001B[39;49;00m\n\u001B[0;32m    970\u001B[0m \u001B[43m    \u001B[49m\u001B[43mtransform\u001B[49m\u001B[38;5;241;43m=\u001B[39;49m\u001B[38;5;28;43;01mlambda\u001B[39;49;00m\u001B[43m \u001B[49m\u001B[43mline\u001B[49m\u001B[43m:\u001B[49m\u001B[43m \u001B[49m\u001B[43mline\u001B[49m\u001B[43m[\u001B[49m\u001B[38;5;241;43m1\u001B[39;49m\u001B[43m:\u001B[49m\u001B[43m]\u001B[49m\u001B[43m \u001B[49m\u001B[38;5;28;43;01mif\u001B[39;49;00m\u001B[43m \u001B[49m\u001B[43mline\u001B[49m\u001B[38;5;241;43m.\u001B[39;49m\u001B[43mstartswith\u001B[49m\u001B[43m(\u001B[49m\u001B[38;5;124;43m\"\u001B[39;49m\u001B[38;5;124;43m#\u001B[39;49m\u001B[38;5;124;43m\"\u001B[39;49m\u001B[43m)\u001B[49m\u001B[43m \u001B[49m\u001B[38;5;28;43;01melse\u001B[39;49;00m\u001B[43m \u001B[49m\u001B[43mline\u001B[49m\u001B[43m,\u001B[49m\n\u001B[0;32m    971\u001B[0m \u001B[43m    \u001B[49m\u001B[43mfail_on_error\u001B[49m\u001B[38;5;241;43m=\u001B[39;49m\u001B[38;5;28;43;01mTrue\u001B[39;49;00m\u001B[43m)\u001B[49m\n\u001B[0;32m    972\u001B[0m \u001B[38;5;28mdict\u001B[39m\u001B[38;5;241m.\u001B[39mupdate(rcParamsDefault, rcsetup\u001B[38;5;241m.\u001B[39m_hardcoded_defaults)\n\u001B[0;32m    973\u001B[0m \u001B[38;5;66;03m# Normally, the default matplotlibrc file contains *no* entry for backend (the\u001B[39;00m\n\u001B[0;32m    974\u001B[0m \u001B[38;5;66;03m# corresponding line starts with ##, not #; we fill on _auto_backend_sentinel\u001B[39;00m\n\u001B[0;32m    975\u001B[0m \u001B[38;5;66;03m# in that case.  However, packagers can set a different default backend\u001B[39;00m\n\u001B[0;32m    976\u001B[0m \u001B[38;5;66;03m# (resulting in a normal `#backend: foo` line) in which case we should *not*\u001B[39;00m\n\u001B[0;32m    977\u001B[0m \u001B[38;5;66;03m# fill in _auto_backend_sentinel.\u001B[39;00m\n",
      "File \u001B[1;32m~\\.conda\\envs\\lab4\\lib\\site-packages\\matplotlib\\__init__.py:901\u001B[0m, in \u001B[0;36m_rc_params_in_file\u001B[1;34m(fname, transform, fail_on_error)\u001B[0m\n\u001B[0;32m    899\u001B[0m \u001B[38;5;28;01mif\u001B[39;00m key \u001B[38;5;129;01min\u001B[39;00m rcsetup\u001B[38;5;241m.\u001B[39m_validators:\n\u001B[0;32m    900\u001B[0m     \u001B[38;5;28;01mif\u001B[39;00m fail_on_error:\n\u001B[1;32m--> 901\u001B[0m         \u001B[43mconfig\u001B[49m\u001B[43m[\u001B[49m\u001B[43mkey\u001B[49m\u001B[43m]\u001B[49m \u001B[38;5;241m=\u001B[39m val  \u001B[38;5;66;03m# try to convert to proper type or raise\u001B[39;00m\n\u001B[0;32m    902\u001B[0m     \u001B[38;5;28;01melse\u001B[39;00m:\n\u001B[0;32m    903\u001B[0m         \u001B[38;5;28;01mtry\u001B[39;00m:\n",
      "File \u001B[1;32m~\\.conda\\envs\\lab4\\lib\\site-packages\\matplotlib\\__init__.py:736\u001B[0m, in \u001B[0;36mRcParams.__setitem__\u001B[1;34m(self, key, val)\u001B[0m\n\u001B[0;32m    734\u001B[0m             \u001B[38;5;28;01mreturn\u001B[39;00m\n\u001B[0;32m    735\u001B[0m \u001B[38;5;28;01mtry\u001B[39;00m:\n\u001B[1;32m--> 736\u001B[0m     cval \u001B[38;5;241m=\u001B[39m \u001B[38;5;28;43mself\u001B[39;49m\u001B[38;5;241;43m.\u001B[39;49m\u001B[43mvalidate\u001B[49m\u001B[43m[\u001B[49m\u001B[43mkey\u001B[49m\u001B[43m]\u001B[49m\u001B[43m(\u001B[49m\u001B[43mval\u001B[49m\u001B[43m)\u001B[49m\n\u001B[0;32m    737\u001B[0m \u001B[38;5;28;01mexcept\u001B[39;00m \u001B[38;5;167;01mValueError\u001B[39;00m \u001B[38;5;28;01mas\u001B[39;00m ve:\n\u001B[0;32m    738\u001B[0m     \u001B[38;5;28;01mraise\u001B[39;00m \u001B[38;5;167;01mValueError\u001B[39;00m(\u001B[38;5;124mf\u001B[39m\u001B[38;5;124m\"\u001B[39m\u001B[38;5;124mKey \u001B[39m\u001B[38;5;132;01m{\u001B[39;00mkey\u001B[38;5;132;01m}\u001B[39;00m\u001B[38;5;124m: \u001B[39m\u001B[38;5;132;01m{\u001B[39;00mve\u001B[38;5;132;01m}\u001B[39;00m\u001B[38;5;124m\"\u001B[39m) \u001B[38;5;28;01mfrom\u001B[39;00m \u001B[38;5;28;01mNone\u001B[39;00m\n",
      "File \u001B[1;32m~\\.conda\\envs\\lab4\\lib\\site-packages\\matplotlib\\rcsetup.py:342\u001B[0m, in \u001B[0;36mvalidate_color\u001B[1;34m(s)\u001B[0m\n\u001B[0;32m    339\u001B[0m         \u001B[38;5;28;01mif\u001B[39;00m is_color_like(stmp):\n\u001B[0;32m    340\u001B[0m             \u001B[38;5;28;01mreturn\u001B[39;00m stmp\n\u001B[1;32m--> 342\u001B[0m \u001B[38;5;28;01mif\u001B[39;00m \u001B[43mis_color_like\u001B[49m\u001B[43m(\u001B[49m\u001B[43ms\u001B[49m\u001B[43m)\u001B[49m:\n\u001B[0;32m    343\u001B[0m     \u001B[38;5;28;01mreturn\u001B[39;00m s\n\u001B[0;32m    345\u001B[0m \u001B[38;5;66;03m# If it is still valid, it must be a tuple (as a string from matplotlibrc).\u001B[39;00m\n",
      "File \u001B[1;32m~\\.conda\\envs\\lab4\\lib\\site-packages\\matplotlib\\colors.py:227\u001B[0m, in \u001B[0;36mis_color_like\u001B[1;34m(c)\u001B[0m\n\u001B[0;32m    225\u001B[0m     \u001B[38;5;28;01mreturn\u001B[39;00m \u001B[38;5;28;01mTrue\u001B[39;00m\n\u001B[0;32m    226\u001B[0m \u001B[38;5;28;01mtry\u001B[39;00m:\n\u001B[1;32m--> 227\u001B[0m     \u001B[43mto_rgba\u001B[49m\u001B[43m(\u001B[49m\u001B[43mc\u001B[49m\u001B[43m)\u001B[49m\n\u001B[0;32m    228\u001B[0m \u001B[38;5;28;01mexcept\u001B[39;00m (\u001B[38;5;167;01mTypeError\u001B[39;00m, \u001B[38;5;167;01mValueError\u001B[39;00m):\n\u001B[0;32m    229\u001B[0m     \u001B[38;5;28;01mreturn\u001B[39;00m \u001B[38;5;28;01mFalse\u001B[39;00m\n",
      "File \u001B[1;32m~\\.conda\\envs\\lab4\\lib\\site-packages\\matplotlib\\colors.py:314\u001B[0m, in \u001B[0;36mto_rgba\u001B[1;34m(c, alpha)\u001B[0m\n\u001B[0;32m    312\u001B[0m     rgba \u001B[38;5;241m=\u001B[39m \u001B[38;5;28;01mNone\u001B[39;00m\n\u001B[0;32m    313\u001B[0m \u001B[38;5;28;01mif\u001B[39;00m rgba \u001B[38;5;129;01mis\u001B[39;00m \u001B[38;5;28;01mNone\u001B[39;00m:  \u001B[38;5;66;03m# Suppress exception chaining of cache lookup failure.\u001B[39;00m\n\u001B[1;32m--> 314\u001B[0m     rgba \u001B[38;5;241m=\u001B[39m \u001B[43m_to_rgba_no_colorcycle\u001B[49m\u001B[43m(\u001B[49m\u001B[43mc\u001B[49m\u001B[43m,\u001B[49m\u001B[43m \u001B[49m\u001B[43malpha\u001B[49m\u001B[43m)\u001B[49m\n\u001B[0;32m    315\u001B[0m     \u001B[38;5;28;01mtry\u001B[39;00m:\n\u001B[0;32m    316\u001B[0m         _colors_full_map\u001B[38;5;241m.\u001B[39mcache[c, alpha] \u001B[38;5;241m=\u001B[39m rgba\n",
      "File \u001B[1;32m~\\.conda\\envs\\lab4\\lib\\site-packages\\matplotlib\\colors.py:336\u001B[0m, in \u001B[0;36m_to_rgba_no_colorcycle\u001B[1;34m(c, alpha)\u001B[0m\n\u001B[0;32m    334\u001B[0m     \u001B[38;5;28;01mraise\u001B[39;00m \u001B[38;5;167;01mValueError\u001B[39;00m(\u001B[38;5;124m\"\u001B[39m\u001B[38;5;124m'\u001B[39m\u001B[38;5;124malpha\u001B[39m\u001B[38;5;124m'\u001B[39m\u001B[38;5;124m must be between 0 and 1, inclusive\u001B[39m\u001B[38;5;124m\"\u001B[39m)\n\u001B[0;32m    335\u001B[0m orig_c \u001B[38;5;241m=\u001B[39m c\n\u001B[1;32m--> 336\u001B[0m \u001B[38;5;28;01mif\u001B[39;00m c \u001B[38;5;129;01mis\u001B[39;00m \u001B[43mnp\u001B[49m\u001B[38;5;241;43m.\u001B[39;49m\u001B[43mma\u001B[49m\u001B[38;5;241m.\u001B[39mmasked:\n\u001B[0;32m    337\u001B[0m     \u001B[38;5;28;01mreturn\u001B[39;00m (\u001B[38;5;241m0.\u001B[39m, \u001B[38;5;241m0.\u001B[39m, \u001B[38;5;241m0.\u001B[39m, \u001B[38;5;241m0.\u001B[39m)\n\u001B[0;32m    338\u001B[0m \u001B[38;5;28;01mif\u001B[39;00m \u001B[38;5;28misinstance\u001B[39m(c, \u001B[38;5;28mstr\u001B[39m):\n",
      "File \u001B[1;32m~\\.conda\\envs\\lab4\\lib\\site-packages\\numpy\\__init__.py:343\u001B[0m, in \u001B[0;36m__getattr__\u001B[1;34m(attr)\u001B[0m\n\u001B[0;32m    336\u001B[0m \u001B[38;5;28;01mdef\u001B[39;00m \u001B[38;5;21m__dir__\u001B[39m():\n\u001B[0;32m    337\u001B[0m     public_symbols \u001B[38;5;241m=\u001B[39m \u001B[38;5;28mglobals\u001B[39m()\u001B[38;5;241m.\u001B[39mkeys() \u001B[38;5;241m|\u001B[39m {\u001B[38;5;124m'\u001B[39m\u001B[38;5;124mtesting\u001B[39m\u001B[38;5;124m'\u001B[39m}\n\u001B[0;32m    338\u001B[0m     public_symbols \u001B[38;5;241m-\u001B[39m\u001B[38;5;241m=\u001B[39m {\n\u001B[0;32m    339\u001B[0m         \u001B[38;5;124m\"\u001B[39m\u001B[38;5;124mcore\u001B[39m\u001B[38;5;124m\"\u001B[39m, \u001B[38;5;124m\"\u001B[39m\u001B[38;5;124mmatrixlib\u001B[39m\u001B[38;5;124m\"\u001B[39m,\n\u001B[0;32m    340\u001B[0m         \u001B[38;5;66;03m# These were moved in 1.25 and may be deprecated eventually:\u001B[39;00m\n\u001B[0;32m    341\u001B[0m         \u001B[38;5;124m\"\u001B[39m\u001B[38;5;124mModuleDeprecationWarning\u001B[39m\u001B[38;5;124m\"\u001B[39m, \u001B[38;5;124m\"\u001B[39m\u001B[38;5;124mVisibleDeprecationWarning\u001B[39m\u001B[38;5;124m\"\u001B[39m,\n\u001B[0;32m    342\u001B[0m         \u001B[38;5;124m\"\u001B[39m\u001B[38;5;124mComplexWarning\u001B[39m\u001B[38;5;124m\"\u001B[39m, \u001B[38;5;124m\"\u001B[39m\u001B[38;5;124mTooHardError\u001B[39m\u001B[38;5;124m\"\u001B[39m, \u001B[38;5;124m\"\u001B[39m\u001B[38;5;124mAxisError\u001B[39m\u001B[38;5;124m\"\u001B[39m\n\u001B[1;32m--> 343\u001B[0m     }\n\u001B[0;32m    344\u001B[0m     \u001B[38;5;28;01mreturn\u001B[39;00m \u001B[38;5;28mlist\u001B[39m(public_symbols)\n",
      "File \u001B[1;32m~\\.conda\\envs\\lab4\\lib\\site-packages\\numpy\\ma\\__init__.py:42\u001B[0m\n\u001B[0;32m      1\u001B[0m \u001B[38;5;124;03m\"\"\"\u001B[39;00m\n\u001B[0;32m      2\u001B[0m \u001B[38;5;124;03m=============\u001B[39;00m\n\u001B[0;32m      3\u001B[0m \u001B[38;5;124;03mMasked Arrays\u001B[39;00m\n\u001B[1;32m   (...)\u001B[0m\n\u001B[0;32m     40\u001B[0m \n\u001B[0;32m     41\u001B[0m \u001B[38;5;124;03m\"\"\"\u001B[39;00m\n\u001B[1;32m---> 42\u001B[0m \u001B[38;5;28;01mfrom\u001B[39;00m \u001B[38;5;21;01m.\u001B[39;00m \u001B[38;5;28;01mimport\u001B[39;00m core\n\u001B[0;32m     43\u001B[0m \u001B[38;5;28;01mfrom\u001B[39;00m \u001B[38;5;21;01m.\u001B[39;00m\u001B[38;5;21;01mcore\u001B[39;00m \u001B[38;5;28;01mimport\u001B[39;00m \u001B[38;5;241m*\u001B[39m\n\u001B[0;32m     45\u001B[0m \u001B[38;5;28;01mfrom\u001B[39;00m \u001B[38;5;21;01m.\u001B[39;00m \u001B[38;5;28;01mimport\u001B[39;00m extras\n",
      "File \u001B[1;32m~\\.conda\\envs\\lab4\\lib\\site-packages\\numpy\\ma\\core.py:37\u001B[0m\n\u001B[0;32m     35\u001B[0m \u001B[38;5;28;01mfrom\u001B[39;00m \u001B[38;5;21;01mnumpy\u001B[39;00m \u001B[38;5;28;01mimport\u001B[39;00m ndarray, amax, amin, iscomplexobj, bool_, _NoValue\n\u001B[0;32m     36\u001B[0m \u001B[38;5;28;01mfrom\u001B[39;00m \u001B[38;5;21;01mnumpy\u001B[39;00m \u001B[38;5;28;01mimport\u001B[39;00m array \u001B[38;5;28;01mas\u001B[39;00m narray\n\u001B[1;32m---> 37\u001B[0m \u001B[38;5;28;01mfrom\u001B[39;00m \u001B[38;5;21;01mnumpy\u001B[39;00m\u001B[38;5;21;01m.\u001B[39;00m\u001B[38;5;21;01mlib\u001B[39;00m\u001B[38;5;21;01m.\u001B[39;00m\u001B[38;5;21;01mfunction_base\u001B[39;00m \u001B[38;5;28;01mimport\u001B[39;00m angle\n\u001B[0;32m     38\u001B[0m \u001B[38;5;28;01mfrom\u001B[39;00m \u001B[38;5;21;01mnumpy\u001B[39;00m\u001B[38;5;21;01m.\u001B[39;00m\u001B[38;5;21;01mcompat\u001B[39;00m \u001B[38;5;28;01mimport\u001B[39;00m (\n\u001B[0;32m     39\u001B[0m     getargspec, formatargspec, long, unicode, \u001B[38;5;28mbytes\u001B[39m\n\u001B[0;32m     40\u001B[0m     )\n\u001B[0;32m     41\u001B[0m \u001B[38;5;28;01mfrom\u001B[39;00m \u001B[38;5;21;01mnumpy\u001B[39;00m \u001B[38;5;28;01mimport\u001B[39;00m expand_dims\n",
      "File \u001B[1;32m~\\.conda\\envs\\lab4\\lib\\site-packages\\numpy\\lib\\function_base.py:25\u001B[0m\n\u001B[0;32m     23\u001B[0m \u001B[38;5;28;01mfrom\u001B[39;00m \u001B[38;5;21;01mnumpy\u001B[39;00m\u001B[38;5;21;01m.\u001B[39;00m\u001B[38;5;21;01mcore\u001B[39;00m \u001B[38;5;28;01mimport\u001B[39;00m overrides\n\u001B[0;32m     24\u001B[0m \u001B[38;5;28;01mfrom\u001B[39;00m \u001B[38;5;21;01mnumpy\u001B[39;00m\u001B[38;5;21;01m.\u001B[39;00m\u001B[38;5;21;01mcore\u001B[39;00m\u001B[38;5;21;01m.\u001B[39;00m\u001B[38;5;21;01mfunction_base\u001B[39;00m \u001B[38;5;28;01mimport\u001B[39;00m add_newdoc\n\u001B[1;32m---> 25\u001B[0m \u001B[38;5;28;01mfrom\u001B[39;00m \u001B[38;5;21;01mnumpy\u001B[39;00m\u001B[38;5;21;01m.\u001B[39;00m\u001B[38;5;21;01mlib\u001B[39;00m\u001B[38;5;21;01m.\u001B[39;00m\u001B[38;5;21;01mtwodim_base\u001B[39;00m \u001B[38;5;28;01mimport\u001B[39;00m diag\n\u001B[0;32m     26\u001B[0m \u001B[38;5;28;01mfrom\u001B[39;00m \u001B[38;5;21;01mnumpy\u001B[39;00m\u001B[38;5;21;01m.\u001B[39;00m\u001B[38;5;21;01mcore\u001B[39;00m\u001B[38;5;21;01m.\u001B[39;00m\u001B[38;5;21;01mmultiarray\u001B[39;00m \u001B[38;5;28;01mimport\u001B[39;00m (\n\u001B[0;32m     27\u001B[0m     _place, add_docstring, bincount, normalize_axis_index, _monotonicity,\n\u001B[0;32m     28\u001B[0m     interp \u001B[38;5;28;01mas\u001B[39;00m compiled_interp, interp_complex \u001B[38;5;28;01mas\u001B[39;00m compiled_interp_complex\n\u001B[0;32m     29\u001B[0m     )\n\u001B[0;32m     30\u001B[0m \u001B[38;5;28;01mfrom\u001B[39;00m \u001B[38;5;21;01mnumpy\u001B[39;00m\u001B[38;5;21;01m.\u001B[39;00m\u001B[38;5;21;01mcore\u001B[39;00m\u001B[38;5;21;01m.\u001B[39;00m\u001B[38;5;21;01mumath\u001B[39;00m \u001B[38;5;28;01mimport\u001B[39;00m _add_newdoc_ufunc \u001B[38;5;28;01mas\u001B[39;00m add_newdoc_ufunc\n",
      "File \u001B[1;32m~\\.conda\\envs\\lab4\\lib\\site-packages\\numpy\\lib\\twodim_base.py:15\u001B[0m\n\u001B[0;32m     13\u001B[0m \u001B[38;5;28;01mfrom\u001B[39;00m \u001B[38;5;21;01mnumpy\u001B[39;00m\u001B[38;5;21;01m.\u001B[39;00m\u001B[38;5;21;01mcore\u001B[39;00m \u001B[38;5;28;01mimport\u001B[39;00m overrides\n\u001B[0;32m     14\u001B[0m \u001B[38;5;28;01mfrom\u001B[39;00m \u001B[38;5;21;01mnumpy\u001B[39;00m\u001B[38;5;21;01m.\u001B[39;00m\u001B[38;5;21;01mcore\u001B[39;00m \u001B[38;5;28;01mimport\u001B[39;00m iinfo\n\u001B[1;32m---> 15\u001B[0m \u001B[38;5;28;01mfrom\u001B[39;00m \u001B[38;5;21;01mnumpy\u001B[39;00m\u001B[38;5;21;01m.\u001B[39;00m\u001B[38;5;21;01mlib\u001B[39;00m\u001B[38;5;21;01m.\u001B[39;00m\u001B[38;5;21;01mstride_tricks\u001B[39;00m \u001B[38;5;28;01mimport\u001B[39;00m broadcast_to\n\u001B[0;32m     18\u001B[0m __all__ \u001B[38;5;241m=\u001B[39m [\n\u001B[0;32m     19\u001B[0m     \u001B[38;5;124m'\u001B[39m\u001B[38;5;124mdiag\u001B[39m\u001B[38;5;124m'\u001B[39m, \u001B[38;5;124m'\u001B[39m\u001B[38;5;124mdiagflat\u001B[39m\u001B[38;5;124m'\u001B[39m, \u001B[38;5;124m'\u001B[39m\u001B[38;5;124meye\u001B[39m\u001B[38;5;124m'\u001B[39m, \u001B[38;5;124m'\u001B[39m\u001B[38;5;124mfliplr\u001B[39m\u001B[38;5;124m'\u001B[39m, \u001B[38;5;124m'\u001B[39m\u001B[38;5;124mflipud\u001B[39m\u001B[38;5;124m'\u001B[39m, \u001B[38;5;124m'\u001B[39m\u001B[38;5;124mtri\u001B[39m\u001B[38;5;124m'\u001B[39m, \u001B[38;5;124m'\u001B[39m\u001B[38;5;124mtriu\u001B[39m\u001B[38;5;124m'\u001B[39m,\n\u001B[0;32m     20\u001B[0m     \u001B[38;5;124m'\u001B[39m\u001B[38;5;124mtril\u001B[39m\u001B[38;5;124m'\u001B[39m, \u001B[38;5;124m'\u001B[39m\u001B[38;5;124mvander\u001B[39m\u001B[38;5;124m'\u001B[39m, \u001B[38;5;124m'\u001B[39m\u001B[38;5;124mhistogram2d\u001B[39m\u001B[38;5;124m'\u001B[39m, \u001B[38;5;124m'\u001B[39m\u001B[38;5;124mmask_indices\u001B[39m\u001B[38;5;124m'\u001B[39m, \u001B[38;5;124m'\u001B[39m\u001B[38;5;124mtril_indices\u001B[39m\u001B[38;5;124m'\u001B[39m,\n\u001B[0;32m     21\u001B[0m     \u001B[38;5;124m'\u001B[39m\u001B[38;5;124mtril_indices_from\u001B[39m\u001B[38;5;124m'\u001B[39m, \u001B[38;5;124m'\u001B[39m\u001B[38;5;124mtriu_indices\u001B[39m\u001B[38;5;124m'\u001B[39m, \u001B[38;5;124m'\u001B[39m\u001B[38;5;124mtriu_indices_from\u001B[39m\u001B[38;5;124m'\u001B[39m, ]\n\u001B[0;32m     24\u001B[0m array_function_dispatch \u001B[38;5;241m=\u001B[39m functools\u001B[38;5;241m.\u001B[39mpartial(\n\u001B[0;32m     25\u001B[0m     overrides\u001B[38;5;241m.\u001B[39marray_function_dispatch, module\u001B[38;5;241m=\u001B[39m\u001B[38;5;124m'\u001B[39m\u001B[38;5;124mnumpy\u001B[39m\u001B[38;5;124m'\u001B[39m)\n",
      "\u001B[1;31mImportError\u001B[0m: cannot import name 'broadcast_to' from 'numpy.lib.stride_tricks' (C:\\Users\\Lenovo\\.conda\\envs\\lab4\\lib\\site-packages\\numpy\\lib\\stride_tricks.py)"
     ]
    }
   ],
   "execution_count": 115
  },
  {
   "cell_type": "code",
   "metadata": {
    "scrolled": false,
    "ExecuteTime": {
     "end_time": "2024-11-03T15:39:19.495519900Z",
     "start_time": "2024-11-03T08:34:11.435289Z"
    }
   },
   "source": [
    "import matplotlib.pyplot as plt\n",
    "def showAttention(input_sentence, output_words, attentions):\n",
    "    # Set up figure with colorbar\n",
    "    fig = plt.figure()\n",
    "    ax = fig.add_subplot(111)\n",
    "    cax = ax.matshow(attentions.numpy(), cmap='bone')\n",
    "    fig.colorbar(cax)\n",
    "\n",
    "    # Set up axes\n",
    "    ax.set_xticklabels([''] + input_sentence.split(' ') +\n",
    "                       ['<EOS>'], rotation=90)\n",
    "    ax.set_yticklabels([''] + output_words)\n",
    "\n",
    "    # Show label at every tick\n",
    "    ax.xaxis.set_major_locator(ticker.MultipleLocator(1))\n",
    "    ax.yaxis.set_major_locator(ticker.MultipleLocator(1))\n",
    "\n",
    "    plt.show()\n",
    "\n",
    "\n",
    "def evaluateAndShowAttention(input_sentence):\n",
    "    encoder1 = EncoderRNN(input_lang.n_words, hidden_size).to(device)\n",
    "    output_words, attentions = evaluate(\n",
    "        encoder1, attn_decoder1, input_sentence)\n",
    "    print('input =', input_sentence)\n",
    "    print('output =', ' '.join(output_words))\n",
    "    showAttention(input_sentence, output_words, attentions)\n",
    "\n",
    "\n",
    "evaluateAndShowAttention(\"他 和 他 的 邻 居 相 处 \")\n",
    "\n",
    "evaluateAndShowAttention(\"我 肯 定 他 会 成 功 的 \")\n",
    "\n",
    "evaluateAndShowAttention(\"他 總 是 忘 記 事 情\")\n",
    "\n",
    "evaluateAndShowAttention(\"我 们 非 常 需 要 食 物 \")"
   ],
   "outputs": [
    {
     "ename": "ImportError",
     "evalue": "cannot import name 'broadcast_to' from 'numpy.lib.stride_tricks' (C:\\Users\\Lenovo\\.conda\\envs\\lab4\\lib\\site-packages\\numpy\\lib\\stride_tricks.py)",
     "output_type": "error",
     "traceback": [
      "\u001B[1;31m---------------------------------------------------------------------------\u001B[0m",
      "\u001B[1;31mImportError\u001B[0m                               Traceback (most recent call last)",
      "Cell \u001B[1;32mIn[116], line 1\u001B[0m\n\u001B[1;32m----> 1\u001B[0m \u001B[38;5;28;01mimport\u001B[39;00m \u001B[38;5;21;01mmatplotlib\u001B[39;00m\u001B[38;5;21;01m.\u001B[39;00m\u001B[38;5;21;01mpyplot\u001B[39;00m \u001B[38;5;28;01mas\u001B[39;00m \u001B[38;5;21;01mplt\u001B[39;00m\n\u001B[0;32m      2\u001B[0m \u001B[38;5;28;01mdef\u001B[39;00m \u001B[38;5;21mshowAttention\u001B[39m(input_sentence, output_words, attentions):\n\u001B[0;32m      3\u001B[0m     \u001B[38;5;66;03m# Set up figure with colorbar\u001B[39;00m\n\u001B[0;32m      4\u001B[0m     fig \u001B[38;5;241m=\u001B[39m plt\u001B[38;5;241m.\u001B[39mfigure()\n",
      "File \u001B[1;32m~\\.conda\\envs\\lab4\\lib\\site-packages\\matplotlib\\__init__.py:967\u001B[0m\n\u001B[0;32m    961\u001B[0m     \u001B[38;5;28;01mreturn\u001B[39;00m config\n\u001B[0;32m    964\u001B[0m \u001B[38;5;66;03m# When constructing the global instances, we need to perform certain updates\u001B[39;00m\n\u001B[0;32m    965\u001B[0m \u001B[38;5;66;03m# by explicitly calling the superclass (dict.update, dict.items) to avoid\u001B[39;00m\n\u001B[0;32m    966\u001B[0m \u001B[38;5;66;03m# triggering resolution of _auto_backend_sentinel.\u001B[39;00m\n\u001B[1;32m--> 967\u001B[0m rcParamsDefault \u001B[38;5;241m=\u001B[39m \u001B[43m_rc_params_in_file\u001B[49m\u001B[43m(\u001B[49m\n\u001B[0;32m    968\u001B[0m \u001B[43m    \u001B[49m\u001B[43mcbook\u001B[49m\u001B[38;5;241;43m.\u001B[39;49m\u001B[43m_get_data_path\u001B[49m\u001B[43m(\u001B[49m\u001B[38;5;124;43m\"\u001B[39;49m\u001B[38;5;124;43mmatplotlibrc\u001B[39;49m\u001B[38;5;124;43m\"\u001B[39;49m\u001B[43m)\u001B[49m\u001B[43m,\u001B[49m\n\u001B[0;32m    969\u001B[0m \u001B[43m    \u001B[49m\u001B[38;5;66;43;03m# Strip leading comment.\u001B[39;49;00m\n\u001B[0;32m    970\u001B[0m \u001B[43m    \u001B[49m\u001B[43mtransform\u001B[49m\u001B[38;5;241;43m=\u001B[39;49m\u001B[38;5;28;43;01mlambda\u001B[39;49;00m\u001B[43m \u001B[49m\u001B[43mline\u001B[49m\u001B[43m:\u001B[49m\u001B[43m \u001B[49m\u001B[43mline\u001B[49m\u001B[43m[\u001B[49m\u001B[38;5;241;43m1\u001B[39;49m\u001B[43m:\u001B[49m\u001B[43m]\u001B[49m\u001B[43m \u001B[49m\u001B[38;5;28;43;01mif\u001B[39;49;00m\u001B[43m \u001B[49m\u001B[43mline\u001B[49m\u001B[38;5;241;43m.\u001B[39;49m\u001B[43mstartswith\u001B[49m\u001B[43m(\u001B[49m\u001B[38;5;124;43m\"\u001B[39;49m\u001B[38;5;124;43m#\u001B[39;49m\u001B[38;5;124;43m\"\u001B[39;49m\u001B[43m)\u001B[49m\u001B[43m \u001B[49m\u001B[38;5;28;43;01melse\u001B[39;49;00m\u001B[43m \u001B[49m\u001B[43mline\u001B[49m\u001B[43m,\u001B[49m\n\u001B[0;32m    971\u001B[0m \u001B[43m    \u001B[49m\u001B[43mfail_on_error\u001B[49m\u001B[38;5;241;43m=\u001B[39;49m\u001B[38;5;28;43;01mTrue\u001B[39;49;00m\u001B[43m)\u001B[49m\n\u001B[0;32m    972\u001B[0m \u001B[38;5;28mdict\u001B[39m\u001B[38;5;241m.\u001B[39mupdate(rcParamsDefault, rcsetup\u001B[38;5;241m.\u001B[39m_hardcoded_defaults)\n\u001B[0;32m    973\u001B[0m \u001B[38;5;66;03m# Normally, the default matplotlibrc file contains *no* entry for backend (the\u001B[39;00m\n\u001B[0;32m    974\u001B[0m \u001B[38;5;66;03m# corresponding line starts with ##, not #; we fill on _auto_backend_sentinel\u001B[39;00m\n\u001B[0;32m    975\u001B[0m \u001B[38;5;66;03m# in that case.  However, packagers can set a different default backend\u001B[39;00m\n\u001B[0;32m    976\u001B[0m \u001B[38;5;66;03m# (resulting in a normal `#backend: foo` line) in which case we should *not*\u001B[39;00m\n\u001B[0;32m    977\u001B[0m \u001B[38;5;66;03m# fill in _auto_backend_sentinel.\u001B[39;00m\n",
      "File \u001B[1;32m~\\.conda\\envs\\lab4\\lib\\site-packages\\matplotlib\\__init__.py:901\u001B[0m, in \u001B[0;36m_rc_params_in_file\u001B[1;34m(fname, transform, fail_on_error)\u001B[0m\n\u001B[0;32m    899\u001B[0m \u001B[38;5;28;01mif\u001B[39;00m key \u001B[38;5;129;01min\u001B[39;00m rcsetup\u001B[38;5;241m.\u001B[39m_validators:\n\u001B[0;32m    900\u001B[0m     \u001B[38;5;28;01mif\u001B[39;00m fail_on_error:\n\u001B[1;32m--> 901\u001B[0m         \u001B[43mconfig\u001B[49m\u001B[43m[\u001B[49m\u001B[43mkey\u001B[49m\u001B[43m]\u001B[49m \u001B[38;5;241m=\u001B[39m val  \u001B[38;5;66;03m# try to convert to proper type or raise\u001B[39;00m\n\u001B[0;32m    902\u001B[0m     \u001B[38;5;28;01melse\u001B[39;00m:\n\u001B[0;32m    903\u001B[0m         \u001B[38;5;28;01mtry\u001B[39;00m:\n",
      "File \u001B[1;32m~\\.conda\\envs\\lab4\\lib\\site-packages\\matplotlib\\__init__.py:736\u001B[0m, in \u001B[0;36mRcParams.__setitem__\u001B[1;34m(self, key, val)\u001B[0m\n\u001B[0;32m    734\u001B[0m             \u001B[38;5;28;01mreturn\u001B[39;00m\n\u001B[0;32m    735\u001B[0m \u001B[38;5;28;01mtry\u001B[39;00m:\n\u001B[1;32m--> 736\u001B[0m     cval \u001B[38;5;241m=\u001B[39m \u001B[38;5;28;43mself\u001B[39;49m\u001B[38;5;241;43m.\u001B[39;49m\u001B[43mvalidate\u001B[49m\u001B[43m[\u001B[49m\u001B[43mkey\u001B[49m\u001B[43m]\u001B[49m\u001B[43m(\u001B[49m\u001B[43mval\u001B[49m\u001B[43m)\u001B[49m\n\u001B[0;32m    737\u001B[0m \u001B[38;5;28;01mexcept\u001B[39;00m \u001B[38;5;167;01mValueError\u001B[39;00m \u001B[38;5;28;01mas\u001B[39;00m ve:\n\u001B[0;32m    738\u001B[0m     \u001B[38;5;28;01mraise\u001B[39;00m \u001B[38;5;167;01mValueError\u001B[39;00m(\u001B[38;5;124mf\u001B[39m\u001B[38;5;124m\"\u001B[39m\u001B[38;5;124mKey \u001B[39m\u001B[38;5;132;01m{\u001B[39;00mkey\u001B[38;5;132;01m}\u001B[39;00m\u001B[38;5;124m: \u001B[39m\u001B[38;5;132;01m{\u001B[39;00mve\u001B[38;5;132;01m}\u001B[39;00m\u001B[38;5;124m\"\u001B[39m) \u001B[38;5;28;01mfrom\u001B[39;00m \u001B[38;5;28;01mNone\u001B[39;00m\n",
      "File \u001B[1;32m~\\.conda\\envs\\lab4\\lib\\site-packages\\matplotlib\\rcsetup.py:342\u001B[0m, in \u001B[0;36mvalidate_color\u001B[1;34m(s)\u001B[0m\n\u001B[0;32m    339\u001B[0m         \u001B[38;5;28;01mif\u001B[39;00m is_color_like(stmp):\n\u001B[0;32m    340\u001B[0m             \u001B[38;5;28;01mreturn\u001B[39;00m stmp\n\u001B[1;32m--> 342\u001B[0m \u001B[38;5;28;01mif\u001B[39;00m \u001B[43mis_color_like\u001B[49m\u001B[43m(\u001B[49m\u001B[43ms\u001B[49m\u001B[43m)\u001B[49m:\n\u001B[0;32m    343\u001B[0m     \u001B[38;5;28;01mreturn\u001B[39;00m s\n\u001B[0;32m    345\u001B[0m \u001B[38;5;66;03m# If it is still valid, it must be a tuple (as a string from matplotlibrc).\u001B[39;00m\n",
      "File \u001B[1;32m~\\.conda\\envs\\lab4\\lib\\site-packages\\matplotlib\\colors.py:227\u001B[0m, in \u001B[0;36mis_color_like\u001B[1;34m(c)\u001B[0m\n\u001B[0;32m    225\u001B[0m     \u001B[38;5;28;01mreturn\u001B[39;00m \u001B[38;5;28;01mTrue\u001B[39;00m\n\u001B[0;32m    226\u001B[0m \u001B[38;5;28;01mtry\u001B[39;00m:\n\u001B[1;32m--> 227\u001B[0m     \u001B[43mto_rgba\u001B[49m\u001B[43m(\u001B[49m\u001B[43mc\u001B[49m\u001B[43m)\u001B[49m\n\u001B[0;32m    228\u001B[0m \u001B[38;5;28;01mexcept\u001B[39;00m (\u001B[38;5;167;01mTypeError\u001B[39;00m, \u001B[38;5;167;01mValueError\u001B[39;00m):\n\u001B[0;32m    229\u001B[0m     \u001B[38;5;28;01mreturn\u001B[39;00m \u001B[38;5;28;01mFalse\u001B[39;00m\n",
      "File \u001B[1;32m~\\.conda\\envs\\lab4\\lib\\site-packages\\matplotlib\\colors.py:314\u001B[0m, in \u001B[0;36mto_rgba\u001B[1;34m(c, alpha)\u001B[0m\n\u001B[0;32m    312\u001B[0m     rgba \u001B[38;5;241m=\u001B[39m \u001B[38;5;28;01mNone\u001B[39;00m\n\u001B[0;32m    313\u001B[0m \u001B[38;5;28;01mif\u001B[39;00m rgba \u001B[38;5;129;01mis\u001B[39;00m \u001B[38;5;28;01mNone\u001B[39;00m:  \u001B[38;5;66;03m# Suppress exception chaining of cache lookup failure.\u001B[39;00m\n\u001B[1;32m--> 314\u001B[0m     rgba \u001B[38;5;241m=\u001B[39m \u001B[43m_to_rgba_no_colorcycle\u001B[49m\u001B[43m(\u001B[49m\u001B[43mc\u001B[49m\u001B[43m,\u001B[49m\u001B[43m \u001B[49m\u001B[43malpha\u001B[49m\u001B[43m)\u001B[49m\n\u001B[0;32m    315\u001B[0m     \u001B[38;5;28;01mtry\u001B[39;00m:\n\u001B[0;32m    316\u001B[0m         _colors_full_map\u001B[38;5;241m.\u001B[39mcache[c, alpha] \u001B[38;5;241m=\u001B[39m rgba\n",
      "File \u001B[1;32m~\\.conda\\envs\\lab4\\lib\\site-packages\\matplotlib\\colors.py:336\u001B[0m, in \u001B[0;36m_to_rgba_no_colorcycle\u001B[1;34m(c, alpha)\u001B[0m\n\u001B[0;32m    334\u001B[0m     \u001B[38;5;28;01mraise\u001B[39;00m \u001B[38;5;167;01mValueError\u001B[39;00m(\u001B[38;5;124m\"\u001B[39m\u001B[38;5;124m'\u001B[39m\u001B[38;5;124malpha\u001B[39m\u001B[38;5;124m'\u001B[39m\u001B[38;5;124m must be between 0 and 1, inclusive\u001B[39m\u001B[38;5;124m\"\u001B[39m)\n\u001B[0;32m    335\u001B[0m orig_c \u001B[38;5;241m=\u001B[39m c\n\u001B[1;32m--> 336\u001B[0m \u001B[38;5;28;01mif\u001B[39;00m c \u001B[38;5;129;01mis\u001B[39;00m \u001B[43mnp\u001B[49m\u001B[38;5;241;43m.\u001B[39;49m\u001B[43mma\u001B[49m\u001B[38;5;241m.\u001B[39mmasked:\n\u001B[0;32m    337\u001B[0m     \u001B[38;5;28;01mreturn\u001B[39;00m (\u001B[38;5;241m0.\u001B[39m, \u001B[38;5;241m0.\u001B[39m, \u001B[38;5;241m0.\u001B[39m, \u001B[38;5;241m0.\u001B[39m)\n\u001B[0;32m    338\u001B[0m \u001B[38;5;28;01mif\u001B[39;00m \u001B[38;5;28misinstance\u001B[39m(c, \u001B[38;5;28mstr\u001B[39m):\n",
      "File \u001B[1;32m~\\.conda\\envs\\lab4\\lib\\site-packages\\numpy\\__init__.py:343\u001B[0m, in \u001B[0;36m__getattr__\u001B[1;34m(attr)\u001B[0m\n\u001B[0;32m    336\u001B[0m \u001B[38;5;28;01mdef\u001B[39;00m \u001B[38;5;21m__dir__\u001B[39m():\n\u001B[0;32m    337\u001B[0m     public_symbols \u001B[38;5;241m=\u001B[39m \u001B[38;5;28mglobals\u001B[39m()\u001B[38;5;241m.\u001B[39mkeys() \u001B[38;5;241m|\u001B[39m {\u001B[38;5;124m'\u001B[39m\u001B[38;5;124mtesting\u001B[39m\u001B[38;5;124m'\u001B[39m}\n\u001B[0;32m    338\u001B[0m     public_symbols \u001B[38;5;241m-\u001B[39m\u001B[38;5;241m=\u001B[39m {\n\u001B[0;32m    339\u001B[0m         \u001B[38;5;124m\"\u001B[39m\u001B[38;5;124mcore\u001B[39m\u001B[38;5;124m\"\u001B[39m, \u001B[38;5;124m\"\u001B[39m\u001B[38;5;124mmatrixlib\u001B[39m\u001B[38;5;124m\"\u001B[39m,\n\u001B[0;32m    340\u001B[0m         \u001B[38;5;66;03m# These were moved in 1.25 and may be deprecated eventually:\u001B[39;00m\n\u001B[0;32m    341\u001B[0m         \u001B[38;5;124m\"\u001B[39m\u001B[38;5;124mModuleDeprecationWarning\u001B[39m\u001B[38;5;124m\"\u001B[39m, \u001B[38;5;124m\"\u001B[39m\u001B[38;5;124mVisibleDeprecationWarning\u001B[39m\u001B[38;5;124m\"\u001B[39m,\n\u001B[0;32m    342\u001B[0m         \u001B[38;5;124m\"\u001B[39m\u001B[38;5;124mComplexWarning\u001B[39m\u001B[38;5;124m\"\u001B[39m, \u001B[38;5;124m\"\u001B[39m\u001B[38;5;124mTooHardError\u001B[39m\u001B[38;5;124m\"\u001B[39m, \u001B[38;5;124m\"\u001B[39m\u001B[38;5;124mAxisError\u001B[39m\u001B[38;5;124m\"\u001B[39m\n\u001B[1;32m--> 343\u001B[0m     }\n\u001B[0;32m    344\u001B[0m     \u001B[38;5;28;01mreturn\u001B[39;00m \u001B[38;5;28mlist\u001B[39m(public_symbols)\n",
      "File \u001B[1;32m~\\.conda\\envs\\lab4\\lib\\site-packages\\numpy\\ma\\__init__.py:42\u001B[0m\n\u001B[0;32m      1\u001B[0m \u001B[38;5;124;03m\"\"\"\u001B[39;00m\n\u001B[0;32m      2\u001B[0m \u001B[38;5;124;03m=============\u001B[39;00m\n\u001B[0;32m      3\u001B[0m \u001B[38;5;124;03mMasked Arrays\u001B[39;00m\n\u001B[1;32m   (...)\u001B[0m\n\u001B[0;32m     40\u001B[0m \n\u001B[0;32m     41\u001B[0m \u001B[38;5;124;03m\"\"\"\u001B[39;00m\n\u001B[1;32m---> 42\u001B[0m \u001B[38;5;28;01mfrom\u001B[39;00m \u001B[38;5;21;01m.\u001B[39;00m \u001B[38;5;28;01mimport\u001B[39;00m core\n\u001B[0;32m     43\u001B[0m \u001B[38;5;28;01mfrom\u001B[39;00m \u001B[38;5;21;01m.\u001B[39;00m\u001B[38;5;21;01mcore\u001B[39;00m \u001B[38;5;28;01mimport\u001B[39;00m \u001B[38;5;241m*\u001B[39m\n\u001B[0;32m     45\u001B[0m \u001B[38;5;28;01mfrom\u001B[39;00m \u001B[38;5;21;01m.\u001B[39;00m \u001B[38;5;28;01mimport\u001B[39;00m extras\n",
      "File \u001B[1;32m~\\.conda\\envs\\lab4\\lib\\site-packages\\numpy\\ma\\core.py:37\u001B[0m\n\u001B[0;32m     35\u001B[0m \u001B[38;5;28;01mfrom\u001B[39;00m \u001B[38;5;21;01mnumpy\u001B[39;00m \u001B[38;5;28;01mimport\u001B[39;00m ndarray, amax, amin, iscomplexobj, bool_, _NoValue\n\u001B[0;32m     36\u001B[0m \u001B[38;5;28;01mfrom\u001B[39;00m \u001B[38;5;21;01mnumpy\u001B[39;00m \u001B[38;5;28;01mimport\u001B[39;00m array \u001B[38;5;28;01mas\u001B[39;00m narray\n\u001B[1;32m---> 37\u001B[0m \u001B[38;5;28;01mfrom\u001B[39;00m \u001B[38;5;21;01mnumpy\u001B[39;00m\u001B[38;5;21;01m.\u001B[39;00m\u001B[38;5;21;01mlib\u001B[39;00m\u001B[38;5;21;01m.\u001B[39;00m\u001B[38;5;21;01mfunction_base\u001B[39;00m \u001B[38;5;28;01mimport\u001B[39;00m angle\n\u001B[0;32m     38\u001B[0m \u001B[38;5;28;01mfrom\u001B[39;00m \u001B[38;5;21;01mnumpy\u001B[39;00m\u001B[38;5;21;01m.\u001B[39;00m\u001B[38;5;21;01mcompat\u001B[39;00m \u001B[38;5;28;01mimport\u001B[39;00m (\n\u001B[0;32m     39\u001B[0m     getargspec, formatargspec, long, unicode, \u001B[38;5;28mbytes\u001B[39m\n\u001B[0;32m     40\u001B[0m     )\n\u001B[0;32m     41\u001B[0m \u001B[38;5;28;01mfrom\u001B[39;00m \u001B[38;5;21;01mnumpy\u001B[39;00m \u001B[38;5;28;01mimport\u001B[39;00m expand_dims\n",
      "File \u001B[1;32m~\\.conda\\envs\\lab4\\lib\\site-packages\\numpy\\lib\\function_base.py:25\u001B[0m\n\u001B[0;32m     23\u001B[0m \u001B[38;5;28;01mfrom\u001B[39;00m \u001B[38;5;21;01mnumpy\u001B[39;00m\u001B[38;5;21;01m.\u001B[39;00m\u001B[38;5;21;01mcore\u001B[39;00m \u001B[38;5;28;01mimport\u001B[39;00m overrides\n\u001B[0;32m     24\u001B[0m \u001B[38;5;28;01mfrom\u001B[39;00m \u001B[38;5;21;01mnumpy\u001B[39;00m\u001B[38;5;21;01m.\u001B[39;00m\u001B[38;5;21;01mcore\u001B[39;00m\u001B[38;5;21;01m.\u001B[39;00m\u001B[38;5;21;01mfunction_base\u001B[39;00m \u001B[38;5;28;01mimport\u001B[39;00m add_newdoc\n\u001B[1;32m---> 25\u001B[0m \u001B[38;5;28;01mfrom\u001B[39;00m \u001B[38;5;21;01mnumpy\u001B[39;00m\u001B[38;5;21;01m.\u001B[39;00m\u001B[38;5;21;01mlib\u001B[39;00m\u001B[38;5;21;01m.\u001B[39;00m\u001B[38;5;21;01mtwodim_base\u001B[39;00m \u001B[38;5;28;01mimport\u001B[39;00m diag\n\u001B[0;32m     26\u001B[0m \u001B[38;5;28;01mfrom\u001B[39;00m \u001B[38;5;21;01mnumpy\u001B[39;00m\u001B[38;5;21;01m.\u001B[39;00m\u001B[38;5;21;01mcore\u001B[39;00m\u001B[38;5;21;01m.\u001B[39;00m\u001B[38;5;21;01mmultiarray\u001B[39;00m \u001B[38;5;28;01mimport\u001B[39;00m (\n\u001B[0;32m     27\u001B[0m     _place, add_docstring, bincount, normalize_axis_index, _monotonicity,\n\u001B[0;32m     28\u001B[0m     interp \u001B[38;5;28;01mas\u001B[39;00m compiled_interp, interp_complex \u001B[38;5;28;01mas\u001B[39;00m compiled_interp_complex\n\u001B[0;32m     29\u001B[0m     )\n\u001B[0;32m     30\u001B[0m \u001B[38;5;28;01mfrom\u001B[39;00m \u001B[38;5;21;01mnumpy\u001B[39;00m\u001B[38;5;21;01m.\u001B[39;00m\u001B[38;5;21;01mcore\u001B[39;00m\u001B[38;5;21;01m.\u001B[39;00m\u001B[38;5;21;01mumath\u001B[39;00m \u001B[38;5;28;01mimport\u001B[39;00m _add_newdoc_ufunc \u001B[38;5;28;01mas\u001B[39;00m add_newdoc_ufunc\n",
      "File \u001B[1;32m~\\.conda\\envs\\lab4\\lib\\site-packages\\numpy\\lib\\twodim_base.py:15\u001B[0m\n\u001B[0;32m     13\u001B[0m \u001B[38;5;28;01mfrom\u001B[39;00m \u001B[38;5;21;01mnumpy\u001B[39;00m\u001B[38;5;21;01m.\u001B[39;00m\u001B[38;5;21;01mcore\u001B[39;00m \u001B[38;5;28;01mimport\u001B[39;00m overrides\n\u001B[0;32m     14\u001B[0m \u001B[38;5;28;01mfrom\u001B[39;00m \u001B[38;5;21;01mnumpy\u001B[39;00m\u001B[38;5;21;01m.\u001B[39;00m\u001B[38;5;21;01mcore\u001B[39;00m \u001B[38;5;28;01mimport\u001B[39;00m iinfo\n\u001B[1;32m---> 15\u001B[0m \u001B[38;5;28;01mfrom\u001B[39;00m \u001B[38;5;21;01mnumpy\u001B[39;00m\u001B[38;5;21;01m.\u001B[39;00m\u001B[38;5;21;01mlib\u001B[39;00m\u001B[38;5;21;01m.\u001B[39;00m\u001B[38;5;21;01mstride_tricks\u001B[39;00m \u001B[38;5;28;01mimport\u001B[39;00m broadcast_to\n\u001B[0;32m     18\u001B[0m __all__ \u001B[38;5;241m=\u001B[39m [\n\u001B[0;32m     19\u001B[0m     \u001B[38;5;124m'\u001B[39m\u001B[38;5;124mdiag\u001B[39m\u001B[38;5;124m'\u001B[39m, \u001B[38;5;124m'\u001B[39m\u001B[38;5;124mdiagflat\u001B[39m\u001B[38;5;124m'\u001B[39m, \u001B[38;5;124m'\u001B[39m\u001B[38;5;124meye\u001B[39m\u001B[38;5;124m'\u001B[39m, \u001B[38;5;124m'\u001B[39m\u001B[38;5;124mfliplr\u001B[39m\u001B[38;5;124m'\u001B[39m, \u001B[38;5;124m'\u001B[39m\u001B[38;5;124mflipud\u001B[39m\u001B[38;5;124m'\u001B[39m, \u001B[38;5;124m'\u001B[39m\u001B[38;5;124mtri\u001B[39m\u001B[38;5;124m'\u001B[39m, \u001B[38;5;124m'\u001B[39m\u001B[38;5;124mtriu\u001B[39m\u001B[38;5;124m'\u001B[39m,\n\u001B[0;32m     20\u001B[0m     \u001B[38;5;124m'\u001B[39m\u001B[38;5;124mtril\u001B[39m\u001B[38;5;124m'\u001B[39m, \u001B[38;5;124m'\u001B[39m\u001B[38;5;124mvander\u001B[39m\u001B[38;5;124m'\u001B[39m, \u001B[38;5;124m'\u001B[39m\u001B[38;5;124mhistogram2d\u001B[39m\u001B[38;5;124m'\u001B[39m, \u001B[38;5;124m'\u001B[39m\u001B[38;5;124mmask_indices\u001B[39m\u001B[38;5;124m'\u001B[39m, \u001B[38;5;124m'\u001B[39m\u001B[38;5;124mtril_indices\u001B[39m\u001B[38;5;124m'\u001B[39m,\n\u001B[0;32m     21\u001B[0m     \u001B[38;5;124m'\u001B[39m\u001B[38;5;124mtril_indices_from\u001B[39m\u001B[38;5;124m'\u001B[39m, \u001B[38;5;124m'\u001B[39m\u001B[38;5;124mtriu_indices\u001B[39m\u001B[38;5;124m'\u001B[39m, \u001B[38;5;124m'\u001B[39m\u001B[38;5;124mtriu_indices_from\u001B[39m\u001B[38;5;124m'\u001B[39m, ]\n\u001B[0;32m     24\u001B[0m array_function_dispatch \u001B[38;5;241m=\u001B[39m functools\u001B[38;5;241m.\u001B[39mpartial(\n\u001B[0;32m     25\u001B[0m     overrides\u001B[38;5;241m.\u001B[39marray_function_dispatch, module\u001B[38;5;241m=\u001B[39m\u001B[38;5;124m'\u001B[39m\u001B[38;5;124mnumpy\u001B[39m\u001B[38;5;124m'\u001B[39m)\n",
      "\u001B[1;31mImportError\u001B[0m: cannot import name 'broadcast_to' from 'numpy.lib.stride_tricks' (C:\\Users\\Lenovo\\.conda\\envs\\lab4\\lib\\site-packages\\numpy\\lib\\stride_tricks.py)"
     ]
    }
   ],
   "execution_count": 116
  }
 ],
 "metadata": {
  "kernelspec": {
   "display_name": "Python 3 (ipykernel)",
   "language": "python",
   "name": "python3"
  },
  "language_info": {
   "codemirror_mode": {
    "name": "ipython",
    "version": 3
   },
   "file_extension": ".py",
   "mimetype": "text/x-python",
   "name": "python",
   "nbconvert_exporter": "python",
   "pygments_lexer": "ipython3",
   "version": "3.9.12"
  },
  "varInspector": {
   "cols": {
    "lenName": 16,
    "lenType": 16,
    "lenVar": 40
   },
   "kernels_config": {
    "python": {
     "delete_cmd_postfix": "",
     "delete_cmd_prefix": "del ",
     "library": "var_list.py",
     "varRefreshCmd": "print(var_dic_list())"
    },
    "r": {
     "delete_cmd_postfix": ") ",
     "delete_cmd_prefix": "rm(",
     "library": "var_list.r",
     "varRefreshCmd": "cat(var_dic_list()) "
    }
   },
   "types_to_exclude": [
    "module",
    "function",
    "builtin_function_or_method",
    "instance",
    "_Feature"
   ],
   "window_display": false
  }
 },
 "nbformat": 4,
 "nbformat_minor": 4
}
